{
 "cells": [
  {
   "cell_type": "markdown",
   "metadata": {},
   "source": [
    "# Beginner- Through the loop\n",
    "To start out we will try to get familiar with using loops in python"
   ]
  },
  {
   "cell_type": "code",
   "execution_count": 1,
   "metadata": {},
   "outputs": [],
   "source": [
    "import numpy as np\n",
    "from matplotlib import pyplot as plt"
   ]
  },
  {
   "cell_type": "markdown",
   "metadata": {},
   "source": [
    "## For loops"
   ]
  },
  {
   "cell_type": "code",
   "execution_count": 2,
   "metadata": {},
   "outputs": [
    {
     "name": "stdout",
     "output_type": "stream",
     "text": [
      "1\n",
      "2\n",
      "3\n",
      "68\n",
      "4\n",
      "5\n",
      "6\n",
      "7\n",
      "8\n",
      "9\n",
      "10\n",
      "3657\n"
     ]
    }
   ],
   "source": [
    "# Let's make a list of some numbers\n",
    "numbers = [1, 2, 3, 68, 4, 5, 6, 7, 8, 9, 10, 3657]\n",
    "\n",
    "# Let's tell a for loop to list through the numbers and print them one by one\n",
    "for i in numbers:\n",
    "    print(i)\n",
    "    \n",
    "# By writing for 'i' in numbers, we are telling the loop to go through the list 'numbers' one by one, and each time \n",
    "# the current number is stored in 'i'."
   ]
  },
  {
   "cell_type": "code",
   "execution_count": 3,
   "metadata": {},
   "outputs": [
    {
     "name": "stdout",
     "output_type": "stream",
     "text": [
      "0\n",
      "1\n",
      "2\n",
      "3\n",
      "4\n",
      "5\n",
      "6\n",
      "7\n",
      "8\n",
      "9\n",
      "10\n",
      "11\n",
      "12\n",
      "13\n"
     ]
    }
   ],
   "source": [
    "# What about if we want a loop to execute X times? Then we do:\n",
    "max_times = 14\n",
    "for i in range(max_times):\n",
    "    # Do what you want\n",
    "    print(i)"
   ]
  },
  {
   "cell_type": "markdown",
   "metadata": {},
   "source": [
    "## While loops"
   ]
  },
  {
   "cell_type": "code",
   "execution_count": 8,
   "metadata": {},
   "outputs": [
    {
     "name": "stdout",
     "output_type": "stream",
     "text": [
      "0\n",
      "1\n",
      "2\n",
      "3\n",
      "4\n",
      "5\n",
      "6\n",
      "7\n",
      "8\n",
      "9\n",
      "10\n",
      "11\n",
      "12\n",
      "13\n",
      "14\n",
      "15\n",
      "16\n",
      "17\n",
      "18\n",
      "19\n",
      "20\n",
      "21\n",
      "22\n",
      "23\n",
      "24\n",
      "25\n",
      "26\n",
      "27\n",
      "28\n",
      "29\n",
      "30\n",
      "31\n",
      "32\n",
      "33\n",
      "34\n",
      "35\n",
      "36\n",
      "37\n",
      "38\n",
      "39\n",
      "40\n",
      "41\n",
      "42\n",
      "43\n",
      "44\n",
      "45\n",
      "46\n",
      "47\n",
      "48\n",
      "49\n",
      "50\n",
      "51\n",
      "52\n",
      "53\n",
      "54\n",
      "55\n",
      "56\n",
      "57\n",
      "58\n",
      "59\n",
      "60\n",
      "61\n",
      "62\n",
      "63\n",
      "64\n",
      "65\n",
      "66\n",
      "67\n",
      "68\n",
      "69\n",
      "70\n",
      "71\n",
      "72\n",
      "73\n",
      "74\n",
      "75\n",
      "76\n",
      "77\n",
      "78\n",
      "79\n",
      "80\n",
      "81\n",
      "82\n",
      "83\n",
      "84\n",
      "85\n",
      "86\n",
      "87\n",
      "88\n",
      "89\n",
      "90\n",
      "91\n",
      "92\n",
      "93\n",
      "94\n",
      "95\n",
      "96\n",
      "97\n",
      "98\n",
      "99\n",
      "100\n",
      "101\n",
      "102\n",
      "103\n",
      "104\n",
      "105\n",
      "106\n",
      "107\n",
      "108\n",
      "109\n",
      "110\n",
      "111\n",
      "112\n",
      "113\n",
      "114\n",
      "115\n",
      "116\n",
      "117\n",
      "118\n",
      "119\n",
      "120\n",
      "121\n",
      "122\n",
      "123\n",
      "124\n",
      "125\n",
      "126\n",
      "127\n",
      "128\n",
      "129\n",
      "130\n",
      "131\n",
      "132\n",
      "133\n",
      "134\n",
      "135\n",
      "136\n",
      "137\n",
      "138\n",
      "139\n",
      "140\n",
      "141\n",
      "142\n",
      "143\n",
      "144\n",
      "145\n",
      "146\n",
      "147\n",
      "148\n",
      "149\n",
      "150\n",
      "151\n",
      "152\n",
      "153\n",
      "154\n",
      "155\n",
      "156\n",
      "157\n",
      "158\n",
      "159\n",
      "160\n",
      "161\n",
      "162\n",
      "163\n",
      "164\n",
      "165\n",
      "166\n",
      "167\n",
      "168\n",
      "169\n",
      "170\n",
      "171\n",
      "172\n",
      "173\n",
      "174\n",
      "175\n",
      "176\n",
      "177\n",
      "178\n",
      "179\n",
      "180\n",
      "181\n",
      "182\n",
      "183\n",
      "184\n",
      "185\n",
      "186\n",
      "187\n",
      "188\n",
      "189\n",
      "190\n",
      "191\n",
      "192\n",
      "193\n",
      "194\n",
      "195\n",
      "196\n",
      "197\n",
      "198\n"
     ]
    }
   ],
   "source": [
    "# A while loop funtions in a similar way, but it will iteratute until something is no-longer true\n",
    "# This is called the condition of the loop; make sure you ensure it will eventually be false, or your loop may continue forever\n",
    "\n",
    "# We can do a simple number-of-iterations like the above\n",
    "limit = 199\n",
    "i = 0\n",
    "while i < limit:\n",
    "    print(i)\n",
    "    i = i+1"
   ]
  },
  {
   "cell_type": "code",
   "execution_count": 7,
   "metadata": {},
   "outputs": [
    {
     "name": "stdout",
     "output_type": "stream",
     "text": [
      "2\n",
      "4\n",
      "Odd number found! It was number 7 at position 2\n"
     ]
    }
   ],
   "source": [
    "# Or we could do something more interesting, like looping through an array until we find an odd number\n",
    "array_set = [2, 4, 7, 8, 6, 10, 12, 13]\n",
    "i = 0\n",
    "while array_set[i] % 2 == 0:\n",
    "    print(array_set[i])\n",
    "    i = i+1\n",
    "print('Odd number found! It was number ' + str(array_set[i]) + \" at position \" + str(i))"
   ]
  },
  {
   "cell_type": "markdown",
   "metadata": {},
   "source": [
    "## Making use of loops"
   ]
  },
  {
   "cell_type": "code",
   "execution_count": 10,
   "metadata": {},
   "outputs": [
    {
     "name": "stdout",
     "output_type": "stream",
     "text": [
      "Element 0 of a is 1\n",
      "Element 0 of b is 6\n",
      "Element 1 of a is 2\n",
      "Element 1 of b is 7\n",
      "Element 2 of a is 3\n",
      "Element 2 of b is 8\n",
      "Element 3 of a is 4\n",
      "Element 3 of b is 9\n",
      "Element 4 of a is 5\n",
      "Element 4 of b is 10\n",
      "[7, 9, 11, 13, 15]\n"
     ]
    }
   ],
   "source": [
    "# Let's say we have two vectors, a and b\n",
    "a = [1, 2, 3, 4, 5]\n",
    "b = [6, 7, 8, 9, 10]\n",
    "\n",
    "# If we wanted to perform some element-wise operation on these vectors, we could use a for loop! \n",
    "# For example, adding them together\n",
    "c = list()\n",
    "\n",
    "# Here, we will need to generate an index that we are going to use.\n",
    "# We first tell our for loop how many times to iterate\n",
    "for i in range(len(a)):\n",
    "    # This loop will iterate as many times as 'a' has elements.\n",
    "    # But the variable 'i' now refers to our position in the vector! \n",
    "    print(\"Element \" + str(i) + \" of a is \" + str(a[i]))\n",
    "    print(\"Element \" + str(i) + \" of b is \" + str(b[i]))\n",
    "    # We are now able to use 'i' as an INDEX, that will point to a specific location in a or b\n",
    "    # So let's make our own add-together variable\n",
    "    c.append(a[i] + b[i])\n",
    "\n",
    "print(c)    "
   ]
  },
  {
   "cell_type": "code",
   "execution_count": 13,
   "metadata": {},
   "outputs": [
    {
     "name": "stdout",
     "output_type": "stream",
     "text": [
      "8\n",
      "15\n",
      "132\n",
      "519\n",
      "736\n"
     ]
    }
   ],
   "source": [
    "# Here's another example that squares everything in the list 'q'\n",
    "q = [1, 2, 5, 8 ,9]\n",
    "for i in q:\n",
    "    print(i**3 + 7)"
   ]
  },
  {
   "cell_type": "code",
   "execution_count": 15,
   "metadata": {},
   "outputs": [
    {
     "name": "stdout",
     "output_type": "stream",
     "text": [
      "[1, 3, 5, 9, 11, 13, 16]\n",
      "[False, True, False, True, False, False, False]\n"
     ]
    }
   ],
   "source": [
    "# Here's another example that tells you if the number is divisible by 3\n",
    "p = [1, 3, 5, 9, 11, 13, 16]\n",
    "truth = list()\n",
    "for i in p:\n",
    "    if np.mod(i,3) == 0:\n",
    "        truth.append(True)\n",
    "    else:\n",
    "        truth.append(False)\n",
    "\n",
    "# Note that if we are iterating over only one list, we don't need to do indexing; we can just let 'i' directly be the value.\n",
    "print(p)\n",
    "print(truth)"
   ]
  },
  {
   "cell_type": "code",
   "execution_count": 16,
   "metadata": {},
   "outputs": [
    {
     "name": "stdout",
     "output_type": "stream",
     "text": [
      "[1, 1, 2, 3, 5, 8, 13, 21, 34, 55, 89, 144, 233, 377, 610, 987, 1597, 2584, 4181, 6765, 10946, 17711, 28657, 46368, 75025, 121393, 196418, 317811, 514229, 832040, 1346269, 2178309, 3524578, 5702887, 9227465, 14930352, 24157817, 39088169, 63245986, 102334155, 165580141, 267914296, 433494437, 701408733, 1134903170, 1836311903, 2971215073, 4807526976, 7778742049, 12586269025]\n"
     ]
    }
   ],
   "source": [
    "# Using a FOR loop, we will calculate the first N fibbonaci numbers\n",
    "N = 50\n",
    "fibbonaci = list()\n",
    "for i in range(N):\n",
    "    # We have to now have a boundary condition; the first two numbers are 1!\n",
    "    if i == 0 or i == 1:\n",
    "        fibbonaci.append(1)\n",
    "    else:\n",
    "        # We want to add the previous TWO numbers together\n",
    "        number = fibbonaci[i-1] + fibbonaci[i-2]\n",
    "        fibbonaci.append(number)\n",
    "print(fibbonaci)"
   ]
  },
  {
   "cell_type": "code",
   "execution_count": 17,
   "metadata": {},
   "outputs": [
    {
     "data": {
      "text/plain": [
       "1346269"
      ]
     },
     "execution_count": 17,
     "metadata": {},
     "output_type": "execute_result"
    }
   ],
   "source": [
    "fibbonaci[30]"
   ]
  },
  {
   "cell_type": "code",
   "execution_count": 18,
   "metadata": {},
   "outputs": [
    {
     "data": {
      "text/plain": [
       "[<matplotlib.lines.Line2D at 0x17f976fad00>]"
      ]
     },
     "execution_count": 18,
     "metadata": {},
     "output_type": "execute_result"
    },
    {
     "data": {
      "image/png": "[encoded data removed]",
      "text/plain": [
       "<Figure size 432x288 with 1 Axes>"
      ]
     },
     "metadata": {
      "needs_background": "light"
     },
     "output_type": "display_data"
    }
   ],
   "source": [
    "# Set our simulation settings\n",
    "x_min = -100\n",
    "x_max = 100\n",
    "step_size = 1\n",
    "k = 0.01\n",
    "\n",
    "# Determine our input vector; the array of x positions that we will access during our for loop.\n",
    "# You always need to determine two of the following; range, number of points, step size.\n",
    "num_samples = (x_max-x_min)//step_size\n",
    "x_inputs = np.linspace(x_min, x_max, num_samples)\n",
    "\n",
    "output = list()\n",
    "for x in x_inputs:\n",
    "    output.append(k*x**2)\n",
    "    \n",
    "plt.plot(x_inputs, output)"
   ]
  },
  {
   "cell_type": "code",
   "execution_count": 19,
   "metadata": {},
   "outputs": [
    {
     "data": {
      "text/plain": [
       "array([-100.        ,  -98.99497487,  -97.98994975,  -96.98492462,\n",
       "        -95.9798995 ,  -94.97487437,  -93.96984925,  -92.96482412,\n",
       "        -91.95979899,  -90.95477387,  -89.94974874,  -88.94472362,\n",
       "        -87.93969849,  -86.93467337,  -85.92964824,  -84.92462312,\n",
       "        -83.91959799,  -82.91457286,  -81.90954774,  -80.90452261,\n",
       "        -79.89949749,  -78.89447236,  -77.88944724,  -76.88442211,\n",
       "        -75.87939698,  -74.87437186,  -73.86934673,  -72.86432161,\n",
       "        -71.85929648,  -70.85427136,  -69.84924623,  -68.84422111,\n",
       "        -67.83919598,  -66.83417085,  -65.82914573,  -64.8241206 ,\n",
       "        -63.81909548,  -62.81407035,  -61.80904523,  -60.8040201 ,\n",
       "        -59.79899497,  -58.79396985,  -57.78894472,  -56.7839196 ,\n",
       "        -55.77889447,  -54.77386935,  -53.76884422,  -52.7638191 ,\n",
       "        -51.75879397,  -50.75376884,  -49.74874372,  -48.74371859,\n",
       "        -47.73869347,  -46.73366834,  -45.72864322,  -44.72361809,\n",
       "        -43.71859296,  -42.71356784,  -41.70854271,  -40.70351759,\n",
       "        -39.69849246,  -38.69346734,  -37.68844221,  -36.68341709,\n",
       "        -35.67839196,  -34.67336683,  -33.66834171,  -32.66331658,\n",
       "        -31.65829146,  -30.65326633,  -29.64824121,  -28.64321608,\n",
       "        -27.63819095,  -26.63316583,  -25.6281407 ,  -24.62311558,\n",
       "        -23.61809045,  -22.61306533,  -21.6080402 ,  -20.60301508,\n",
       "        -19.59798995,  -18.59296482,  -17.5879397 ,  -16.58291457,\n",
       "        -15.57788945,  -14.57286432,  -13.5678392 ,  -12.56281407,\n",
       "        -11.55778894,  -10.55276382,   -9.54773869,   -8.54271357,\n",
       "         -7.53768844,   -6.53266332,   -5.52763819,   -4.52261307,\n",
       "         -3.51758794,   -2.51256281,   -1.50753769,   -0.50251256,\n",
       "          0.50251256,    1.50753769,    2.51256281,    3.51758794,\n",
       "          4.52261307,    5.52763819,    6.53266332,    7.53768844,\n",
       "          8.54271357,    9.54773869,   10.55276382,   11.55778894,\n",
       "         12.56281407,   13.5678392 ,   14.57286432,   15.57788945,\n",
       "         16.58291457,   17.5879397 ,   18.59296482,   19.59798995,\n",
       "         20.60301508,   21.6080402 ,   22.61306533,   23.61809045,\n",
       "         24.62311558,   25.6281407 ,   26.63316583,   27.63819095,\n",
       "         28.64321608,   29.64824121,   30.65326633,   31.65829146,\n",
       "         32.66331658,   33.66834171,   34.67336683,   35.67839196,\n",
       "         36.68341709,   37.68844221,   38.69346734,   39.69849246,\n",
       "         40.70351759,   41.70854271,   42.71356784,   43.71859296,\n",
       "         44.72361809,   45.72864322,   46.73366834,   47.73869347,\n",
       "         48.74371859,   49.74874372,   50.75376884,   51.75879397,\n",
       "         52.7638191 ,   53.76884422,   54.77386935,   55.77889447,\n",
       "         56.7839196 ,   57.78894472,   58.79396985,   59.79899497,\n",
       "         60.8040201 ,   61.80904523,   62.81407035,   63.81909548,\n",
       "         64.8241206 ,   65.82914573,   66.83417085,   67.83919598,\n",
       "         68.84422111,   69.84924623,   70.85427136,   71.85929648,\n",
       "         72.86432161,   73.86934673,   74.87437186,   75.87939698,\n",
       "         76.88442211,   77.88944724,   78.89447236,   79.89949749,\n",
       "         80.90452261,   81.90954774,   82.91457286,   83.91959799,\n",
       "         84.92462312,   85.92964824,   86.93467337,   87.93969849,\n",
       "         88.94472362,   89.94974874,   90.95477387,   91.95979899,\n",
       "         92.96482412,   93.96984925,   94.97487437,   95.9798995 ,\n",
       "         96.98492462,   97.98994975,   98.99497487,  100.        ])"
      ]
     },
     "execution_count": 19,
     "metadata": {},
     "output_type": "execute_result"
    }
   ],
   "source": [
    "x_inputs"
   ]
  },
  {
   "cell_type": "markdown",
   "metadata": {},
   "source": [
    "**Homework**\n",
    "\n",
    "Write your own iterative sequence to evaluate the following:\n",
    "- The first three numbers in a sequence are 1, 3, 7. \n",
    "- The following number is equal to the ratio of the differences of the previous three, with the most recent numbers on the numerator  (eg the 4th number is (7-3) /(3-1) = 2)\n",
    "- What is the 107th number in the sequence?\n",
    "- What is the largest number that occurs after 1000 iterations?\n",
    "(Note that they will not be integers for very long!)\n"
   ]
  },
  {
   "cell_type": "markdown",
   "metadata": {},
   "source": [
    "# Intermediate - Integrals\n",
    "\n",
    "\n",
    "Here we will compute the integral for\n",
    "$$ \\frac{dx}{dt} = \\frac{sin(t)}{t} $$\n",
    "\n",
    "To do this we will use finite difference method (specifically the forward difference) which involves slowly steping through the function x(t) using a small timestep."
   ]
  },
  {
   "cell_type": "code",
   "execution_count": 24,
   "metadata": {},
   "outputs": [
    {
     "data": {
      "image/png": "[encoded data removed]",
      "text/plain": [
       "<Figure size 432x288 with 1 Axes>"
      ]
     },
     "metadata": {
      "needs_background": "light"
     },
     "output_type": "display_data"
    }
   ],
   "source": [
    "#Begin by defining our range of t values\n",
    "t_min = 0\n",
    "t_max = 100\n",
    "timestep = 1 # Step size becomes very important here!\n",
    "\n",
    "# Set up our range of t values we're going to use\n",
    "num_t_values = int((t_max - t_min)//timestep)\n",
    "t = np.linspace(t_min, t_max, num_t_values)\n",
    "\n",
    "x = np.zeros(num_t_values) # Set up an empty array to put our values into\n",
    "\n",
    "# Iterate over our set of t_set time values, calculating their corresponsing x one at a time\n",
    "x_init = 0 #our initial condition\n",
    "\n",
    "for i in range(num_t_values):\n",
    "    # We need an if-statement to catch the first case, because t(n-1) doesn't exist for n = 0!\n",
    "    if i == 0:\n",
    "        x[i] = x_init\n",
    "    else: \n",
    "        # Below is the step function we have calculated\n",
    "        x[i] = x[i-1] + np.sin(t[i])/t[i] * timestep\n",
    "\n",
    "# Plot our answer\n",
    "plt.plot(t,x)\n",
    "plt.show()"
   ]
  },
  {
   "cell_type": "markdown",
   "metadata": {},
   "source": [
    "**Homework**\n",
    "\n",
    "1. Make and integrate some other functions.\n",
    "2. Implement the [central difference approximations for the derivative](https://en.wikipedia.org/wiki/Finite_difference_method#Explicit_method) and practice using those.\n",
    "3. Compare to odeint"
   ]
  },
  {
   "cell_type": "markdown",
   "metadata": {},
   "source": [
    "# Advanced - 1D Poisson Equation Solution\n",
    "\n",
    "https://numpy.org/doc/stable/reference/generated/numpy.diag.html"
   ]
  },
  {
   "cell_type": "code",
   "execution_count": 33,
   "metadata": {},
   "outputs": [
    {
     "name": "stdout",
     "output_type": "stream",
     "text": [
      "[[-2  1  0 ...  0  0  0]\n",
      " [ 1 -2  1 ...  0  0  0]\n",
      " [ 0  1 -2 ...  0  0  0]\n",
      " ...\n",
      " [ 0  0  0 ... -2  1  0]\n",
      " [ 0  0  0 ...  1 -2  1]\n",
      " [ 0  0  0 ...  0  1 -2]]\n"
     ]
    },
    {
     "data": {
      "text/plain": [
       "<matplotlib.image.AxesImage at 0x17f97cc93d0>"
      ]
     },
     "execution_count": 33,
     "metadata": {},
     "output_type": "execute_result"
    },
    {
     "data": {
      "text/plain": [
       "<Figure size 432x288 with 0 Axes>"
      ]
     },
     "metadata": {},
     "output_type": "display_data"
    },
    {
     "data": {
      "image/png": "[encoded data removed]",
      "text/plain": [
       "<Figure size 288x288 with 1 Axes>"
      ]
     },
     "metadata": {
      "needs_background": "light"
     },
     "output_type": "display_data"
    }
   ],
   "source": [
    "# Step 1 - an automatically scaling poisson matrix.\n",
    "# Let's assume we are trying to find the voltage along a 1m space with varying charge densities. \n",
    "# This time, instead of hard coding our poisson matrix, we will make one that scales to as many nodes as you want.\n",
    "\n",
    "nodes = 50 #Number of nodes we will have in our simulation domain.\n",
    "length = 1 #m, the length of our domain.\n",
    "a = length/(nodes-1) # The step size 'a', in metres. \n",
    "\n",
    "# Have a look at the diag documentation linked above \n",
    "Poisson_Matrix = np.diag([-2]*nodes,0) + np.diag([1]*(nodes-1),1) + np.diag([1]*(nodes-1),-1)\n",
    "# Print the matrix to examine it ourselves\n",
    "print(Poisson_Matrix)\n",
    "plt.figure()\n",
    "plt.matshow(Poisson_Matrix)"
   ]
  },
  {
   "cell_type": "code",
   "execution_count": 34,
   "metadata": {},
   "outputs": [
    {
     "data": {
      "text/plain": [
       "[<matplotlib.lines.Line2D at 0x17f97d0fe50>]"
      ]
     },
     "execution_count": 34,
     "metadata": {},
     "output_type": "execute_result"
    },
    {
     "data": {
      "image/png": "[encoded data removed]",
      "text/plain": [
       "<Figure size 432x288 with 1 Axes>"
      ]
     },
     "metadata": {
      "needs_background": "light"
     },
     "output_type": "display_data"
    }
   ],
   "source": [
    "# Step 2 - generate our rho vector.\n",
    "# I am going to make a rho = 0.5x, where x is the distance from the centre of our system.\n",
    "# Try a bunch of different rhos yourself!\n",
    "centre = length/2\n",
    "rho = np.zeros(nodes)\n",
    "for i in range(nodes):\n",
    "    x = i*a - centre # Find our position relative to centre\n",
    "    rho[i] = 0.5*x\n",
    "   \n",
    "plt.figure()\n",
    "plt.plot(rho)"
   ]
  },
  {
   "cell_type": "code",
   "execution_count": null,
   "metadata": {},
   "outputs": [],
   "source": [
    "# This method from making the rho would have been simpler but is less generalisable to other rho functions\n",
    "# centre = length/2\n",
    "# np.linspace(-0.5*centre,0.5*centre,nodes)"
   ]
  },
  {
   "cell_type": "code",
   "execution_count": 35,
   "metadata": {},
   "outputs": [
    {
     "data": {
      "text/plain": [
       "Text(0, 0.5, 'Voltage, V')"
      ]
     },
     "execution_count": 35,
     "metadata": {},
     "output_type": "execute_result"
    },
    {
     "data": {
      "image/png": "[encoded data removed]",
      "text/plain": [
       "<Figure size 432x288 with 1 Axes>"
      ]
     },
     "metadata": {
      "needs_background": "light"
     },
     "output_type": "display_data"
    }
   ],
   "source": [
    "# Before we solve this, we are going to need to add in the -a squared / epsilon term to our rho.\n",
    "# Epsilon is where we input our material properties; it's not going to change for our simulations so I will set it to be '1'\n",
    "eps = 1\n",
    "rho_mod = rho*-1*a**2*eps\n",
    "\n",
    "# Finally, let's generate a solution via matrix inversion. As always, this is quite a slow method (but we're lazy :) )\n",
    "V = np.linalg.solve(Poisson_Matrix, rho_mod)\n",
    "plt.figure()\n",
    "plt.plot(V)\n",
    "plt.ylabel('Voltage, V')"
   ]
  },
  {
   "cell_type": "markdown",
   "metadata": {},
   "source": [
    "**Homework**\n",
    "\n",
    "1. Implement the two boundry conditions: Fixed voltage, constant gradient\n",
    "2. Try some other rho functions"
   ]
  }
 ],
 "metadata": {
  "kernelspec": {
   "display_name": "Python 3",
   "language": "python",
   "name": "python3"
  },
  "language_info": {
   "codemirror_mode": {
    "name": "ipython",
    "version": 3
   },
   "file_extension": ".py",
   "mimetype": "text/x-python",
   "name": "python",
   "nbconvert_exporter": "python",
   "pygments_lexer": "ipython3",
   "version": "3.8.5"
  }
 },
 "nbformat": 4,
 "nbformat_minor": 4
}

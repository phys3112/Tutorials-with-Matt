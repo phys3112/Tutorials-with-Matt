{
 "cells": [
  {
   "cell_type": "markdown",
   "metadata": {},
   "source": [
    "# Spin and Zeeman effect"
   ]
  },
  {
   "cell_type": "code",
   "execution_count": null,
   "metadata": {},
   "outputs": [],
   "source": [
    "import numpy as np\n",
    "from matplotlib import pyplot as plt\n",
    "import time\n",
    "import scipy.sparse as sparse"
   ]
  },
  {
   "cell_type": "code",
   "execution_count": null,
   "metadata": {},
   "outputs": [],
   "source": [
    "def matshow_cbar(mat):\n",
    "    fig = plt.figure()\n",
    "    ax = fig.add_subplot(111)\n",
    "    cax = ax.matshow(mat)\n",
    "    fig.colorbar(cax)"
   ]
  },
  {
   "cell_type": "markdown",
   "metadata": {},
   "source": [
    "$$H=g_n μ_n \\mathbf{B⋅I}+g_e μ_e \\mathbf{B⋅S}+A\\mathbf{I⋅S}$$\n",
    "\n",
    "$$H=g_n μ_n (B_x I_x+B_y I_y+B_z I_z )+g_e μ_e (B_x S_x+B_y S_y+B_z S_z )+A(I_x S_x+I_y S_y+I_z S_z )$$\n",
    "\n",
    "$$H= H_{zn} + H_{ze} + H_{hf}$$\n",
    "\n",
    "$$H= H_z + H_{hf}$$\n",
    "\n",
    "\n",
    "**B** is the magnetic field\n",
    "\n",
    "**I** is the nuclear spin operator\n",
    "\n",
    "**S** is the electron spin operator (= ℏ/2 σ) \n",
    "\n",
    "More info on the formulas can be found here:\n",
    "https://easyspin.org/easyspin/documentation/hamiltonian.html"
   ]
  },
  {
   "cell_type": "code",
   "execution_count": null,
   "metadata": {},
   "outputs": [],
   "source": [
    "#Setting up some constants\n",
    "e = 1.6e-19              # Electron charge (C)\n",
    "h = 6.625e-34            # Planck constant (Js)\n",
    "\n",
    "ge = 1.9987213544        # Electron Lande g factor\n",
    "gn = -2.26               # Neutron Lande g factor\n",
    "# BTW this is the same kind of g factor spoken about recently in the news (Fermilab-2021) but that is for a muon.\n",
    "\n",
    "# The h_bar is included in the units of mu_B, mu_n and A\n",
    "mu_B = 5.7962605e-5      # Bohr magnaton (eV/T)\n",
    "mu_n = 3.156739525e-8    # Nuclear magneton (eV/T)\n",
    "\n",
    "B = np.array([1, 1, 0])  # Magnetic field strength vector (Tesla)\n",
    "A = 117e6                # Fermi contact hyperfine constant (Hz)\n",
    "I =  np.diag([1]*2)      # Identity matrix"
   ]
  },
  {
   "cell_type": "code",
   "execution_count": null,
   "metadata": {},
   "outputs": [],
   "source": [
    "print(B)\n",
    "print(I)"
   ]
  },
  {
   "cell_type": "code",
   "execution_count": null,
   "metadata": {},
   "outputs": [],
   "source": [
    "# Spin matricies, Pauli matrices * 1/2, hbar is factored in later\n",
    "X = 0.5*np.array([[0,1],[1,0]])\n",
    "Y = 0.5*np.array([[0, -1j],[1j, 0]])\n",
    "Z = 0.5*np.array([[1, 0], [0, -1]])"
   ]
  },
  {
   "cell_type": "code",
   "execution_count": null,
   "metadata": {},
   "outputs": [],
   "source": [
    "print(X)\n",
    "print(Y)\n",
    "print(Z)"
   ]
  },
  {
   "cell_type": "markdown",
   "metadata": {},
   "source": [
    "The tensor product is computationally the same as a knoneker product with an indetity matrix $\\mathcal{I}$ so we will use that.\n",
    "\n",
    "$$ I_x \\Longrightarrow I_x \\otimes \\mathcal{I}$$\n",
    "$$ S_x \\Longrightarrow \\mathcal{I} \\otimes S_x$$\n",
    "\n",
    "In reality it should be $I_x \\otimes B_X$ however $B_x$ is a scalar so it works out the same as $I_x \\otimes \\mathcal{I}."
   ]
  },
  {
   "cell_type": "code",
   "execution_count": null,
   "metadata": {},
   "outputs": [],
   "source": [
    "# Hamiltonian for the neutron (Nuclear Zeeman Interaction)\n",
    "H_zn = gn*mu_n*(B[0]*np.kron(X, I)+B[1]*np.kron(Y, I)+ B[2]*np.kron(Z, I)) # (eV)\n",
    "print(H_zn) "
   ]
  },
  {
   "cell_type": "code",
   "execution_count": null,
   "metadata": {},
   "outputs": [],
   "source": [
    "matshow_cbar(np.real(H_zn))\n",
    "matshow_cbar(np.imag(H_zn))"
   ]
  },
  {
   "cell_type": "code",
   "execution_count": null,
   "metadata": {},
   "outputs": [],
   "source": [
    "# Hamiltonian for the electron (Electron Zeeman Interaction)\n",
    "H_ze = ge*mu_B*(B[0]*np.kron(I, X)+B[1]*np.kron(I, Y)+ B[2]*np.kron(I, Z)) # eV\n",
    "\n",
    "H_z = (H_zn + H_ze)*e/h # Hz\n",
    "\n",
    "# Hamiltonian for the hyperfine interaction\n",
    "H_hf = A*(np.kron(X, X) + np.kron(Y, Y) + np.kron(Z, Z)) # Hz\n",
    "\n",
    "H = H_z + H_hf"
   ]
  },
  {
   "cell_type": "code",
   "execution_count": null,
   "metadata": {},
   "outputs": [],
   "source": [
    "# Step 4 - Generate Solution\n",
    "vals, vecs = np.linalg.eigh(H)\n",
    "# vals is the eigen values, vecs are the eigen vectors (as a matrix)\n",
    "\n",
    "# Step 5 - extract and print\n",
    "for i in range(len(vals)):\n",
    "    print(\"[{}] \\t Eigenvalues = {:.4E} \\n \\t Eigenvector = \\n\".format(i,vals[i]) + str(vecs[:,i]))"
   ]
  },
  {
   "cell_type": "markdown",
   "metadata": {},
   "source": [
    "**Homework**\n",
    "\n",
    "1. Visualise the Eigenvalues and eigenvectors\n",
    "2. Modify the B field and observe changes in the eigenvalues and eigenvectors\n",
    "3. Add another neutron to the hamiltonian"
   ]
  },
  {
   "cell_type": "markdown",
   "metadata": {},
   "source": [
    "# Sparse martix and benchmarking"
   ]
  },
  {
   "cell_type": "code",
   "execution_count": null,
   "metadata": {},
   "outputs": [],
   "source": [
    "def forward_diff_mat(nodes):\n",
    "    return np.diag([-2]*nodes,0) + np.diag([1]*(nodes-1),1) + np.diag([1]*(nodes-1),-1)"
   ]
  },
  {
   "cell_type": "code",
   "execution_count": null,
   "metadata": {},
   "outputs": [],
   "source": [
    "# Make our matrix and print it to see.\n",
    "H = -20*forward_diff_mat(500)\n",
    "print('Uncrompressed Matrix:')\n",
    "print(H)\n",
    "\n",
    "# Let's have a look at different sparse representations of this matrix.\n",
    "H_csc = sparse.csc_matrix(H)\n",
    "print('\\nCompressed Sparse Column:')\n",
    "print(H_csc)\n",
    "H_csr = sparse.csr_matrix(H)\n",
    "print('\\nCompressed Sparse Row:')\n",
    "print(H_csr)\n",
    "H_dok = sparse.dok_matrix(H)\n",
    "print('\\nDictionary of Keys')\n",
    "print(H_dok)\n",
    "H_lil = sparse.lil_matrix(H)\n",
    "print('\\nList of Lists')\n",
    "print(H_lil)\n",
    "\n",
    "\n",
    "# There doesn't appear to be much difference *in the print out*, but there may be a lot going on behind the scenes."
   ]
  },
  {
   "cell_type": "code",
   "execution_count": null,
   "metadata": {},
   "outputs": [],
   "source": [
    "# We can take any of our matrices and convert them to a 'regular' matrix format by calling the .todense function\n",
    "H_normal = H_csr.todense()\n",
    "# Back to a normal matrix:\n",
    "print(H_normal)"
   ]
  },
  {
   "cell_type": "code",
   "execution_count": null,
   "metadata": {},
   "outputs": [],
   "source": [
    "H_csc.conj()"
   ]
  },
  {
   "cell_type": "markdown",
   "metadata": {},
   "source": [
    "Where the more interesting stuff comes in to play is when you try to modify / perform an operation with the sparse matrices: you can't really use normal numpy operations! Instead you need to use the spefic operations available as part of the spmatrix class: https://docs.scipy.org/doc/scipy/reference/generated/scipy.sparse.spmatrix.html#scipy.sparse.spmatrix\n",
    "\n",
    "(They are called by putting a .METHOD() after the variable name, for example H_csr.get_shape())"
   ]
  },
  {
   "cell_type": "code",
   "execution_count": null,
   "metadata": {},
   "outputs": [],
   "source": [
    "# These are some sparse matrix example functions you can do on sparse matrices.\n",
    "print(\"Calculating the mean value:\")\n",
    "print(\"Regular matrix representation\")\n",
    "print(np.mean(H))\n",
    "print('\\nCompressed Sparse Column:')\n",
    "print(H_csc.mean())\n",
    "print('\\nCompressed Sparse Row:')\n",
    "print(H_csr.mean())\n",
    "print('\\nList of Lists')\n",
    "print(H_lil.mean())\n",
    "print('\\nDictionary of Keys')\n",
    "print(H_dok.mean())"
   ]
  },
  {
   "cell_type": "code",
   "execution_count": null,
   "metadata": {},
   "outputs": [],
   "source": [
    "#timing something is pretty simple; you get a start time, a finish time, and subtract them from each other.\n",
    "start = time.perf_counter()\n",
    "for i in range(1000000):\n",
    "    a = 1+2\n",
    "end = time.perf_counter()\n",
    "\n",
    "print('Time taken (s):')\n",
    "print(end-start)"
   ]
  },
  {
   "cell_type": "code",
   "execution_count": null,
   "metadata": {},
   "outputs": [],
   "source": [
    "# Let's time how long it takes to make a sparse representation of a matrix:\n",
    "nodes = 10000\n",
    "H = -20*forward_diff_mat(nodes)\n",
    "\n",
    "print('Making a CSR sparse Matrix of size N = %s'% nodes)\n",
    "start = time.perf_counter()\n",
    "H_csr = sparse.csr_matrix(H)\n",
    "end = time.perf_counter()\n",
    "print('Time taken (s):')\n",
    "print(end-start)\n",
    "\n",
    "print('Making a LIL sparse Matrix of size N = %s'% nodes)\n",
    "start = time.perf_counter()\n",
    "H_lil = sparse.lil_matrix(H)\n",
    "end = time.perf_counter()\n",
    "print('Time taken (s):')\n",
    "print(end-start)"
   ]
  },
  {
   "cell_type": "code",
   "execution_count": null,
   "metadata": {},
   "outputs": [],
   "source": [
    "Repeats = 1000"
   ]
  },
  {
   "cell_type": "code",
   "execution_count": null,
   "metadata": {},
   "outputs": [],
   "source": [
    "#doing some addition\n",
    "\n",
    "print('Adding 2 ordinary Matricies of size N = %s'% nodes)\n",
    "start = time.perf_counter()\n",
    "for i in range(Repeats):\n",
    "    a = H + H\n",
    "end = time.perf_counter()\n",
    "print('Time taken (s):')\n",
    "print(end-start)"
   ]
  },
  {
   "cell_type": "code",
   "execution_count": null,
   "metadata": {},
   "outputs": [],
   "source": [
    "print('Adding 2 CSR sparse Matricies of size N = %s'% nodes)\n",
    "start = time.perf_counter()\n",
    "for i in range(Repeats):\n",
    "    a = H_csr + H_csr\n",
    "end = time.perf_counter()\n",
    "print('Time taken (s):')\n",
    "print(end-start)"
   ]
  },
  {
   "cell_type": "code",
   "execution_count": null,
   "metadata": {},
   "outputs": [],
   "source": [
    "print('Adding 2 LIL sparse Matricies of size N = %s'% nodes)\n",
    "start = time.perf_counter()\n",
    "for i in range(Repeats):\n",
    "    a = H_lil + H_lil\n",
    "end = time.perf_counter()\n",
    "print('Time taken (s):')\n",
    "print(end-start)"
   ]
  },
  {
   "cell_type": "code",
   "execution_count": null,
   "metadata": {},
   "outputs": [],
   "source": [
    "# Let's see how large our representations are:\n",
    "\n",
    "H = -20*forward_diff_mat(500)\n",
    "\n",
    "print('Size of matrix (in MB):')\n",
    "print(H.data.nbytes/(1024**2))\n",
    "\n",
    "print('\\nSize of CSR representation (in MB):')\n",
    "H_csr = sparse.csr_matrix(H)\n",
    "print(H_csr.data.nbytes/(1024**2))\n",
    "\n",
    "print('\\nSize of LIL representation (in MB):')\n",
    "H_lil = sparse.lil_matrix(H)\n",
    "print(H_lil.data.nbytes/(1024**2))"
   ]
  },
  {
   "cell_type": "markdown",
   "metadata": {},
   "source": [
    "**Beginner Tasks**\n",
    "1. Create your own matrix (maybe 10x10) in a separate cell, and find the sparse representations of it. Try different shapes (i.e. lots of off diagonal terms, everything concentrated in one corner) and have a look at how the representations change.\n",
    "2. Time how long it takes to sparse-ify a matrix of size 10,000 by 10,000 using the time.perf_counter() tool. Which method (CSR, CSC, LIL, DOK etc) is the quickest?\n",
    "3. Repeat the above timings but for de-sparsing a matrix (using the matrix.todense() command). Which representation has the overall best time? Does it change depending on what type of matrix you use (i.e. heavily diagonal, completely full, identity matrix etc)?\n",
    "\n",
    "**Intermediate Tasks**\n",
    "1. Investigate the scaling properties of one sparse representation of your choosing. As a function of initial matrix size (N), determine:\n",
    "\n",
    "    a. How strongly the time-to-compress and time-to-unpack change.\n",
    "    \n",
    "    b. How much the file size of the un-compressed and compressed matrix change.\n",
    "    \n",
    "    \n",
    "2. For your chosen sparse representation, compare the timings of the following methods for calculating the dot product of two matrices:\n",
    "\n",
    "    a. use np.dot() in the dense (i.e. regular) matrix representation\n",
    "    \n",
    "    b. compress both matrices to sparse matrices, and use the spmatrix.dot() representation, then uncompress.\n",
    "\n",
    "**Advanced Tasks**\n",
    "1. Repeat the intermediate tasks (rip) but change the values in the matrices to be of double precision. What are the differences?\n",
    "1. Repeat the intermetiate timing tasks **again** but time multiple runs of the same method; is there much variability in how long certain operations take?"
   ]
  },
  {
   "cell_type": "code",
   "execution_count": null,
   "metadata": {},
   "outputs": [],
   "source": []
  }
 ],
 "metadata": {
  "kernelspec": {
   "display_name": "Python 3",
   "language": "python",
   "name": "python3"
  },
  "language_info": {
   "codemirror_mode": {
    "name": "ipython",
    "version": 3
   },
   "file_extension": ".py",
   "mimetype": "text/x-python",
   "name": "python",
   "nbconvert_exporter": "python",
   "pygments_lexer": "ipython3",
   "version": "3.8.5"
  }
 },
 "nbformat": 4,
 "nbformat_minor": 4
}

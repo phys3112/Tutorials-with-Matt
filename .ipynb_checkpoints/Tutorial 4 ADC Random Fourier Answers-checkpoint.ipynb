{
 "cells": [
  {
   "cell_type": "code",
   "execution_count": 1,
   "metadata": {},
   "outputs": [],
   "source": [
    "import numpy as np\n",
    "import scipy as sp\n",
    "import pandas as pd\n",
    "\n",
    "import time\n",
    "from matplotlib import pyplot as plt"
   ]
  },
  {
   "cell_type": "markdown",
   "metadata": {},
   "source": [
    "**Homework:**\n",
    "\n",
    "1. Create a new signal of frequency 10kHz, amplitude 5V, DC offset of 2.5 V. Then digitise the signal using 4 bits per value. You will need to play around with the bit depth and the range.\n",
    "2. Modify the ADC to add noise to the signal, then average the noisy values. You may want to look at [Michael's Notes](https://github.com/phys3112/intro/blob/master/mcba3-analog-to-digital-conversion.ipynb) for inspiration."
   ]
  },
  {
   "cell_type": "code",
   "execution_count": 3,
   "metadata": {},
   "outputs": [],
   "source": [
    "def find_nearest(array, value):\n",
    "    idx = (np.abs(array - value)).argmin()\n",
    "    return array[idx]\n",
    "\n",
    "# Making our adc function! This is not the most efficient way of doing it, but I hope it's easier to understand.\n",
    "def adc1(signal, num_bits, input_range):\n",
    "    # A function to digitise an analogue signal\n",
    "        # Signal is a list or 1D array of all the values\n",
    "        # num_bits is the number of bits (1s or zeros) we will have in our ADC\n",
    "        # input_range is the range of inputs we will allow, as a tuple (min, max)\n",
    "    \n",
    "    # Extract the min and max values from the input range\n",
    "    sig_min, sig_max = input_range\n",
    "    # Generate the discrete levels that our ADC is going to map the real signal to\n",
    "    disc_levels = np.linspace(sig_min, sig_max, 2**num_bits)\n",
    "    print(disc_levels)\n",
    "    \n",
    "    # For each element in the signal, match it to the closest discrete level:\n",
    "    out = list() # Create an empty output array\n",
    "    for i in signal:\n",
    "        out.append(find_nearest(disc_levels,i))\n",
    "        \n",
    "    return out"
   ]
  },
  {
   "cell_type": "code",
   "execution_count": 49,
   "metadata": {},
   "outputs": [
    {
     "name": "stdout",
     "output_type": "stream",
     "text": [
      "[-2.5        -1.83333333 -1.16666667 -0.5         0.16666667  0.83333333\n",
      "  1.5         2.16666667  2.83333333  3.5         4.16666667  4.83333333\n",
      "  5.5         6.16666667  6.83333333  7.5       ]\n"
     ]
    },
    {
     "data": {
      "text/plain": [
       "<matplotlib.legend.Legend at 0x2943fe06bb0>"
      ]
     },
     "execution_count": 49,
     "metadata": {},
     "output_type": "execute_result"
    },
    {
     "data": {
      "image/png": "[encoded data removed]",
      "text/plain": [
       "<Figure size 432x288 with 1 Axes>"
      ]
     },
     "metadata": {
      "needs_background": "light"
     },
     "output_type": "display_data"
    }
   ],
   "source": [
    "# We have made a BASIC digitiser - check it out above.\n",
    "# Let's test it out using a sinusoid\n",
    "samples = 100000\n",
    "final = 0.00008\n",
    "timebase = np.arange(0, final, final/samples)\n",
    "signal = 5*np.sin(2*np.pi*10**4*timebase) + 2.5\n",
    "plt.plot(timebase,signal,'-')\n",
    "\n",
    "plt.plot(timebase,adc1(signal, 4, (-2.5,7.5)),'-')\n",
    "plt.legend([\"Analogue Signal\", \"Digital Signal\"])"
   ]
  },
  {
   "cell_type": "markdown",
   "metadata": {},
   "source": [
    "**Homework**\n",
    "\n",
    "1. Try out some other input signals such as your own experimental data, ExpData.txt or BeatsHighRaw.txt)\n",
    "2. Try out an inverse fourier transform, how does it compare to the original data?\n",
    "3. Have a look at 2d fourier transforms (they are pretty cool)"
   ]
  },
  {
   "cell_type": "code",
   "execution_count": null,
   "metadata": {},
   "outputs": [],
   "source": []
  }
 ],
 "metadata": {
  "kernelspec": {
   "display_name": "Python 3",
   "language": "python",
   "name": "python3"
  },
  "language_info": {
   "codemirror_mode": {
    "name": "ipython",
    "version": 3
   },
   "file_extension": ".py",
   "mimetype": "text/x-python",
   "name": "python",
   "nbconvert_exporter": "python",
   "pygments_lexer": "ipython3",
   "version": "3.8.5"
  }
 },
 "nbformat": 4,
 "nbformat_minor": 4
}

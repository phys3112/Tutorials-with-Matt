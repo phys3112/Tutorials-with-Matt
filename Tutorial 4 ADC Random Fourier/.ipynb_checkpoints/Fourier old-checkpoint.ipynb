{
 "cells": [
  {
   "cell_type": "markdown",
   "metadata": {},
   "source": [
    "# Fourier transforms"
   ]
  },
  {
   "cell_type": "code",
   "execution_count": 1,
   "metadata": {},
   "outputs": [],
   "source": [
    "import numpy as np\n",
    "import scipy as sp\n",
    "import pandas as pd\n",
    "\n",
    "import time\n",
    "from matplotlib import pyplot as plt\n",
    "\n",
    "from scipy import signal\n",
    "import scipy.fftpack"
   ]
  },
  {
   "cell_type": "code",
   "execution_count": 2,
   "metadata": {},
   "outputs": [
    {
     "name": "stdout",
     "output_type": "stream",
     "text": [
      "length: 600\n"
     ]
    },
    {
     "data": {
      "text/plain": [
       "Text(0.5, 0, 'Time (s)')"
      ]
     },
     "execution_count": 2,
     "metadata": {},
     "output_type": "execute_result"
    },
    {
     "data": {
      "image/png": "[encoded data removed]",
      "text/plain": [
       "<Figure size 1080x288 with 1 Axes>"
      ]
     },
     "metadata": {
      "needs_background": "light"
     },
     "output_type": "display_data"
    }
   ],
   "source": [
    "# Lets make the function we will be transforming\n",
    "\n",
    "# Generate our timebase\n",
    "timestep = 0.1 # sec\n",
    "\n",
    "finaltime = 60 # sec\n",
    "steps = int(finaltime/timestep)\n",
    "\n",
    "timebase = np.arange(0,finaltime,timestep) \n",
    "print(\"length: \" + str(len(timebase)))\n",
    "\n",
    "frequency = 0.5*np.pi # rad/sec\n",
    "\n",
    "my_signal = np.sin(timebase*frequency) # Generate our sinusoid, and plot it!\n",
    "\n",
    "# frequency2 = 1.1*np.pi\n",
    "# my_signal = np.sin(timebase*frequency) + np.sin(timebase*frequency2)\n",
    "\n",
    "# my_signal =  sp.signal.square(0.2*timebase)\n",
    "\n",
    "plt.figure(figsize=(15, 4))\n",
    "plt.plot(timebase, my_signal,'k.')\n",
    "plt.xlabel('Time (s)')"
   ]
  },
  {
   "cell_type": "code",
   "execution_count": 3,
   "metadata": {},
   "outputs": [
    {
     "name": "stdout",
     "output_type": "stream",
     "text": [
      "[ 1.95971371e-14-0.00000000e+00j  1.08381518e-14+1.31197211e-14j\n",
      " -3.43199060e-15+2.00511537e-14j  1.06680411e-14+1.14713281e-14j\n",
      " -5.81103626e-15-1.64658429e-14j]\n"
     ]
    },
    {
     "data": {
      "text/plain": [
       "Text(0.5, 0, 'Frequency (Hz)')"
      ]
     },
     "execution_count": 3,
     "metadata": {},
     "output_type": "execute_result"
    },
    {
     "data": {
      "image/png": "[encoded data removed]",
      "text/plain": [
       "<Figure size 1080x288 with 1 Axes>"
      ]
     },
     "metadata": {
      "needs_background": "light"
     },
     "output_type": "display_data"
    }
   ],
   "source": [
    "fftsignal = sp.fftpack.fft(my_signal) # Doing the fourer transform\n",
    "print(fftsignal[0:5])\n",
    "\n",
    "freqbase = sp.fftpack.fftfreq(steps, d=timestep) # Generates our frequency base\n",
    "\n",
    "fftsignal = np.abs(fftsignal) # Step 1 - take the absolute value of our fourier transform\n",
    "fftsignal = fftsignal[:steps//2] # Step 2 - take only the second half of our fourier transform (it's mirrored about f = 0) \n",
    "freqbase = freqbase[:steps//2]\n",
    "\n",
    "plt.figure(figsize=(15, 4))\n",
    "lastidx = 9999 # using this to zoom in on the graph\n",
    "plt.plot(freqbase[0:lastidx], fftsignal[0:lastidx])\n",
    "plt.xlabel('Frequency (Hz)')"
   ]
  },
  {
   "cell_type": "code",
   "execution_count": 4,
   "metadata": {},
   "outputs": [
    {
     "data": {
      "text/html": [
       "<div>\n",
       "<style scoped>\n",
       "    .dataframe tbody tr th:only-of-type {\n",
       "        vertical-align: middle;\n",
       "    }\n",
       "\n",
       "    .dataframe tbody tr th {\n",
       "        vertical-align: top;\n",
       "    }\n",
       "\n",
       "    .dataframe thead th {\n",
       "        text-align: right;\n",
       "    }\n",
       "</style>\n",
       "<table border=\"1\" class=\"dataframe\">\n",
       "  <thead>\n",
       "    <tr style=\"text-align: right;\">\n",
       "      <th></th>\n",
       "      <th>Mag</th>\n",
       "      <th>Freq</th>\n",
       "    </tr>\n",
       "  </thead>\n",
       "  <tbody>\n",
       "    <tr>\n",
       "      <th>15</th>\n",
       "      <td>3.000000e+02</td>\n",
       "      <td>0.250000</td>\n",
       "    </tr>\n",
       "    <tr>\n",
       "      <th>135</th>\n",
       "      <td>2.894993e-13</td>\n",
       "      <td>2.250000</td>\n",
       "    </tr>\n",
       "    <tr>\n",
       "      <th>105</th>\n",
       "      <td>2.785807e-13</td>\n",
       "      <td>1.750000</td>\n",
       "    </tr>\n",
       "    <tr>\n",
       "      <th>104</th>\n",
       "      <td>2.415575e-13</td>\n",
       "      <td>1.733333</td>\n",
       "    </tr>\n",
       "    <tr>\n",
       "      <th>134</th>\n",
       "      <td>2.363002e-13</td>\n",
       "      <td>2.233333</td>\n",
       "    </tr>\n",
       "    <tr>\n",
       "      <th>...</th>\n",
       "      <td>...</td>\n",
       "      <td>...</td>\n",
       "    </tr>\n",
       "    <tr>\n",
       "      <th>183</th>\n",
       "      <td>5.391001e-15</td>\n",
       "      <td>3.050000</td>\n",
       "    </tr>\n",
       "    <tr>\n",
       "      <th>269</th>\n",
       "      <td>4.741892e-15</td>\n",
       "      <td>4.483333</td>\n",
       "    </tr>\n",
       "    <tr>\n",
       "      <th>193</th>\n",
       "      <td>3.772127e-15</td>\n",
       "      <td>3.216667</td>\n",
       "    </tr>\n",
       "    <tr>\n",
       "      <th>163</th>\n",
       "      <td>2.887485e-15</td>\n",
       "      <td>2.716667</td>\n",
       "    </tr>\n",
       "    <tr>\n",
       "      <th>185</th>\n",
       "      <td>2.518727e-15</td>\n",
       "      <td>3.083333</td>\n",
       "    </tr>\n",
       "  </tbody>\n",
       "</table>\n",
       "<p>300 rows × 2 columns</p>\n",
       "</div>"
      ],
      "text/plain": [
       "              Mag      Freq\n",
       "15   3.000000e+02  0.250000\n",
       "135  2.894993e-13  2.250000\n",
       "105  2.785807e-13  1.750000\n",
       "104  2.415575e-13  1.733333\n",
       "134  2.363002e-13  2.233333\n",
       "..            ...       ...\n",
       "183  5.391001e-15  3.050000\n",
       "269  4.741892e-15  4.483333\n",
       "193  3.772127e-15  3.216667\n",
       "163  2.887485e-15  2.716667\n",
       "185  2.518727e-15  3.083333\n",
       "\n",
       "[300 rows x 2 columns]"
      ]
     },
     "execution_count": 4,
     "metadata": {},
     "output_type": "execute_result"
    }
   ],
   "source": [
    "fourier = pd.DataFrame({ \"Mag\" : fftsignal, \"Freq\" : freqbase})\n",
    "fourier.sort_values(by=['Mag'], ascending = False) # Finding the peaks"
   ]
  },
  {
   "cell_type": "markdown",
   "metadata": {},
   "source": [
    "**Homework**\n",
    "\n",
    "1. Try out some other input signals (maybe some real data)\n",
    "2. Try out an inverse fourier transform\n",
    "3. Have a look at 2d fourier transforms (they are pretty cool)"
   ]
  },
  {
   "cell_type": "code",
   "execution_count": null,
   "metadata": {},
   "outputs": [],
   "source": []
  }
 ],
 "metadata": {
  "kernelspec": {
   "display_name": "Python 3 (ipykernel)",
   "language": "python",
   "name": "python3"
  },
  "language_info": {
   "codemirror_mode": {
    "name": "ipython",
    "version": 3
   },
   "file_extension": ".py",
   "mimetype": "text/x-python",
   "name": "python",
   "nbconvert_exporter": "python",
   "pygments_lexer": "ipython3",
   "version": "3.9.7"
  }
 },
 "nbformat": 4,
 "nbformat_minor": 4
}

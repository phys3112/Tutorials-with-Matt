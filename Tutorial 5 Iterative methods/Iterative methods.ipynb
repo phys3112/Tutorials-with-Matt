{
 "cells": [
  {
   "cell_type": "markdown",
   "metadata": {},
   "source": [
    "# Iterative methods\n",
    "\n",
    "<img src=\"https://uploads-ssl.webflow.com/6184b461a39ff1011f8c0582/623c0c5447c67e81d4ac3f35_for-loop-flowchart.png\" alt=\"For loop\" ALIGN=\"right\" style=\"width: 380px;\"/>\n",
    "\n",
    "### Aim:\n",
    "To familiarise ourselves with many different ways we can use loops and iteration to do complex tasks.\\\n",
    "*No physics knowledge required.*\n",
    "\n",
    "### Data file requirements:\n",
    "None\n",
    "\n",
    "\n",
    "### Non-anaconda python libaries:\n",
    "None\n",
    "\n",
    "### Prerequisites:\n",
    "* Basics\n",
    "\n",
    "### Primary Outcomes:\n",
    "* Learn to use loops in python\n",
    "* Learn about numerical methods\n",
    "\n",
    "\n",
    "### Secondary Outcomes:\n",
    "* For loops\n",
    "* While loops\n",
    "* Zip function\n",
    "* Enumerate function\n",
    "* Generating series using loops\n",
    "* Newton-Raphson method\n",
    "* Numerical integration\n",
    "\n",
    "## Background:\n",
    "Arguably the defining advantage of a computer over a human is its ability to repeat a process many times flawlessly. Given this we should learn how to takadvantage of this repeated looping potential of computers by learing about loops and iterative methods in python. An iterative method is a process where something is completed by doing one small step at a time 'iterating' on previous steps untill the process is completed.\n"
   ]
  },
  {
   "cell_type": "markdown",
   "metadata": {},
   "source": [
    "# Beginner - Through the loop\n",
    "To start out we will try to get familiar with using loops in python\n",
    "\n",
    "We start by importing two libaries\n",
    "* *numpy* which is used for computation and arrays (which we shorten to 'np')\n",
    "* The *pyplot* section of *matplotlib* for plotting our data (shortened to 'plt')"
   ]
  },
  {
   "cell_type": "code",
   "execution_count": 1,
   "metadata": {},
   "outputs": [],
   "source": [
    "import numpy as np\n",
    "from matplotlib import pyplot as plt"
   ]
  },
  {
   "cell_type": "markdown",
   "metadata": {},
   "source": [
    "## For loops\n",
    "For loops are a very basic but very powerful loop sturcture in python. They allow us to iterate any elements in a list or array that we give it, which can be anything from numbers to characters to other arrays. "
   ]
  },
  {
   "cell_type": "markdown",
   "metadata": {},
   "source": [
    "First lets make a list of some numbers, feel free to edit the list to whatever your heart desires"
   ]
  },
  {
   "cell_type": "code",
   "execution_count": 2,
   "metadata": {},
   "outputs": [],
   "source": [
    "numbers = [1, 2, 3, 4, 5, 6, 7, 8, 9, 10]"
   ]
  },
  {
   "cell_type": "markdown",
   "metadata": {},
   "source": [
    "Now we will print out everything in the list one element at a time using the for loop"
   ]
  },
  {
   "cell_type": "code",
   "execution_count": 3,
   "metadata": {},
   "outputs": [
    {
     "name": "stdout",
     "output_type": "stream",
     "text": [
      "1\n",
      "2\n",
      "3\n",
      "4\n",
      "5\n",
      "6\n",
      "7\n",
      "8\n",
      "9\n",
      "10\n"
     ]
    }
   ],
   "source": [
    "for i in numbers:\n",
    "    print(i)"
   ]
  },
  {
   "cell_type": "markdown",
   "metadata": {},
   "source": [
    "By writing `for i in numbers`, we are telling the loop to go through the list `numbers` one by one, and each time it grabes an element for `numbers` and assigns it to the variable `i`. It then runs the code in the loop, in this case just `print(i)` then advances to the next element of `numbers`."
   ]
  },
  {
   "cell_type": "markdown",
   "metadata": {},
   "source": [
    "### Your turn: For loop\n",
    "Write code that uses a list of numbers from 1-10 but prints 5 times that value on each line.\n",
    "The output should look like:\n",
    "```\n",
    "5\n",
    "10\n",
    "15\n",
    "20\n",
    "...```"
   ]
  },
  {
   "cell_type": "markdown",
   "metadata": {},
   "source": [
    "What if we didn't have a list of things but we wanted to execute a loop, lets say, 14 times? We can still use a for loop and the function `range` which produces a number up to the max value you give it stating from 0."
   ]
  },
  {
   "cell_type": "code",
   "execution_count": 4,
   "metadata": {},
   "outputs": [
    {
     "name": "stdout",
     "output_type": "stream",
     "text": [
      "0\n",
      "1\n",
      "2\n",
      "3\n",
      "4\n",
      "5\n",
      "6\n",
      "7\n",
      "8\n",
      "9\n",
      "10\n",
      "11\n",
      "12\n",
      "13\n"
     ]
    }
   ],
   "source": [
    "# Here is an example\n",
    "max_times = 14\n",
    "for i in range(max_times):\n",
    "    # Do what you want\n",
    "    print(i)"
   ]
  },
  {
   "cell_type": "markdown",
   "metadata": {},
   "source": [
    "## While loops\n",
    "The other common loop in python is the while loop, which run untill the condition given becomes false. If it never becomes false it wil run forever."
   ]
  },
  {
   "cell_type": "code",
   "execution_count": 5,
   "metadata": {},
   "outputs": [
    {
     "name": "stdout",
     "output_type": "stream",
     "text": [
      "0\n",
      "1\n",
      "2\n",
      "3\n",
      "4\n",
      "5\n",
      "6\n",
      "7\n",
      "8\n",
      "9\n",
      "10\n",
      "11\n",
      "12\n",
      "13\n"
     ]
    }
   ],
   "source": [
    "# Here we can replicate the above example with a while loop\n",
    "limit = 14\n",
    "i = 0\n",
    "while i < limit:\n",
    "    print(i)\n",
    "    i = i+1 # Notice i have to manually incrment i, unlike in the for loop wher eit is done automatically"
   ]
  },
  {
   "cell_type": "markdown",
   "metadata": {},
   "source": [
    "Lets try do someothing more intresting like print through an array untill we hit the firt odd number "
   ]
  },
  {
   "cell_type": "code",
   "execution_count": 6,
   "metadata": {},
   "outputs": [
    {
     "name": "stdout",
     "output_type": "stream",
     "text": [
      "2\n",
      "4\n",
      "Odd number found! It was number 7 at position 2\n"
     ]
    }
   ],
   "source": [
    "array_set = [2, 4, 7, 8, 6, 10, 12, 13]\n",
    "i = 0\n",
    "while np.mod(array_set[i],2) == 0:\n",
    "    print(array_set[i])\n",
    "    i = i+1\n",
    "print('Odd number found! It was number ' + str(array_set[i]) + \" at position \" + str(i))"
   ]
  },
  {
   "cell_type": "markdown",
   "metadata": {},
   "source": [
    "### Your turn: While loop\n",
    "Write code using a while loop that takes in a list of words but stops if a word is 3 letters or shorter.\n",
    "The output should look like:\n",
    "```\n",
    "hello\n",
    "this\n",
    "list\n",
    "```\n",
    "\n",
    "also name your iteration variable something other than `i`"
   ]
  },
  {
   "cell_type": "code",
   "execution_count": 7,
   "metadata": {},
   "outputs": [],
   "source": [
    "word_list = ['hello','this','list','of','words','is','sentient']\n",
    "\n"
   ]
  },
  {
   "cell_type": "markdown",
   "metadata": {},
   "source": [
    "# Intermediate - Generating new things with loops\n",
    "We can also use loops to produce new things using element wise operations.\n",
    "For example vector addition.\n",
    "\n",
    "to do this we will use our iterator `i` also as our idex to keep trach where in each vector we are currently at."
   ]
  },
  {
   "cell_type": "code",
   "execution_count": 8,
   "metadata": {},
   "outputs": [
    {
     "name": "stdout",
     "output_type": "stream",
     "text": [
      "Element 0 of a is 1\n",
      "Element 0 of b is 6\n",
      "Element 1 of a is 2\n",
      "Element 1 of b is 7\n",
      "Element 2 of a is 3\n",
      "Element 2 of b is 8\n",
      "Element 3 of a is 4\n",
      "Element 3 of b is 9\n",
      "Element 4 of a is 5\n",
      "Element 4 of b is 10\n",
      "[7, 9, 11, 13, 15]\n"
     ]
    }
   ],
   "source": [
    "# Let's say we have two vectors, a and b\n",
    "a = [1, 2, 3, 4, 5]\n",
    "b = [6, 7, 8, 9, 10]\n",
    "\n",
    "c = [] # making empty list c to add our result to\n",
    "\n",
    "for i in range(len(a)):\n",
    "    # This loop will iterate as many times as 'a' has elements.\n",
    "    # i will now index our position in both vectors\n",
    "    print(\"Element \" + str(i) + \" of a is \" + str(a[i]))\n",
    "    print(\"Element \" + str(i) + \" of b is \" + str(b[i]))\n",
    "    # So let's make our own add-together variable\n",
    "    c.append(a[i] + b[i])\n",
    "\n",
    "print(c)    "
   ]
  },
  {
   "cell_type": "markdown",
   "metadata": {},
   "source": [
    "Note that if the index is not needed we can also give a for loop two vectors using the zip function."
   ]
  },
  {
   "cell_type": "code",
   "execution_count": 9,
   "metadata": {},
   "outputs": [
    {
     "name": "stdout",
     "output_type": "stream",
     "text": [
      "[7, 9, 11, 13, 15]\n"
     ]
    }
   ],
   "source": [
    "zipc = [] # making empty list c to add our result to\n",
    "\n",
    "for A,B in zip(a,b):\n",
    "    zipc.append(A + B)\n",
    "\n",
    "print(zipc)  "
   ]
  },
  {
   "cell_type": "markdown",
   "metadata": {},
   "source": [
    "### Your turn: vectors\n",
    "Write code that adds two vectors together making a sum vector, then produces another vectors showing if the result was divisible by 3. Then print both after the loop is done, the result should be the following:\n",
    "```\n",
    "[6, 10, 6, 108, 15]\n",
    "[True, False, True, True, True]\n",
    "```"
   ]
  },
  {
   "cell_type": "code",
   "execution_count": 10,
   "metadata": {},
   "outputs": [],
   "source": [
    "P = [1, 3, 5, 9, 11]\n",
    "Q = [5, 7, 1, 99, 4]\n",
    "sumvector = []\n",
    "result = []"
   ]
  },
  {
   "cell_type": "markdown",
   "metadata": {},
   "source": [
    "We can also use loops to compute a series such as the fibbonaci series which follows the rule:\n",
    "f(n) = f(n-1) + f(n-2)\n",
    "\n",
    "$$\n",
    "\\begin{align}\n",
    "f(0) &= 1 \\\\\n",
    "f(1) &= 1 \\\\\n",
    "f(2) &= f(1) + f(0) = 1 + 1 = 2 \\\\\n",
    "f(3) &= f(2) + f(1) = 2 + 1 = 3 \\\\\n",
    "...\n",
    "\\end{align}\n",
    "$$"
   ]
  },
  {
   "cell_type": "code",
   "execution_count": 11,
   "metadata": {},
   "outputs": [
    {
     "name": "stdout",
     "output_type": "stream",
     "text": [
      "[1, 1, 2, 3, 5, 8, 13, 21, 34, 55, 89, 144, 233, 377, 610, 987, 1597, 2584, 4181, 6765, 10946, 17711, 28657, 46368, 75025, 121393, 196418, 317811, 514229, 832040, 1346269, 2178309, 3524578, 5702887, 9227465, 14930352, 24157817, 39088169, 63245986, 102334155, 165580141, 267914296, 433494437, 701408733, 1134903170, 1836311903, 2971215073, 4807526976, 7778742049, 12586269025]\n"
     ]
    }
   ],
   "source": [
    "# Using a FOR loop, we will calculate the first N fibbonaci numbers\n",
    "N = 50\n",
    "fibbonaci = []\n",
    "for i in range(N):\n",
    "    # We have to now have a boundary condition; the first two numbers are 1\n",
    "    if i == 0 or i == 1:\n",
    "        fibbonaci.append(1)\n",
    "    else:\n",
    "        # We want to add the previous TWO numbers together\n",
    "        number = fibbonaci[i-1] + fibbonaci[i-2]\n",
    "        fibbonaci.append(number)\n",
    "print(fibbonaci)"
   ]
  },
  {
   "cell_type": "markdown",
   "metadata": {},
   "source": [
    "## Simple simulation\n",
    "Similarly we can use loops to create a simulation where we are iterating through time. \n",
    "Here we can simulate a ball being thrown stright up at a intial acceleration of 10 m/s."
   ]
  },
  {
   "cell_type": "code",
   "execution_count": 12,
   "metadata": {},
   "outputs": [],
   "source": [
    "# Set our simulation settings\n",
    "t_min = 0\n",
    "t_max = 10 # s\n",
    "# we will run the simulation for 10 seconds\n",
    "\n",
    "step_size = 0.5 # s\n",
    "# iterating ever 0.5 seconds\n",
    "\n",
    "g = -9.81 # m/s^2\n",
    "v_init = 30 # m/s\n",
    "\n",
    "# Feel free to adjust these values and rerun the simlulation"
   ]
  },
  {
   "cell_type": "code",
   "execution_count": 13,
   "metadata": {
    "scrolled": true
   },
   "outputs": [
    {
     "data": {
      "text/plain": [
       "array([0. , 0.5, 1. , 1.5, 2. , 2.5, 3. , 3.5, 4. , 4.5, 5. , 5.5, 6. ,\n",
       "       6.5, 7. , 7.5, 8. , 8.5, 9. , 9.5])"
      ]
     },
     "execution_count": 13,
     "metadata": {},
     "output_type": "execute_result"
    }
   ],
   "source": [
    "# Determine our input vector; the array of times where we will calulate our position.\n",
    "time = np.arange(t_min,t_max,step_size)\n",
    "time"
   ]
  },
  {
   "cell_type": "markdown",
   "metadata": {},
   "source": [
    "To get a new height we will use the current velocity and current height.\n",
    "$$\\text{height}(t+1) = \\text{height}(t) + \\text{velocity}(t)*\\text{step_size}$$\n",
    "We also must update our velocity\n",
    "$$\\text{velocity}(t+1) = \\text{velocity}(t) + \\text{acceleration}(t)*\\text{step_size}$$\n",
    "\n",
    "Our acceleration will be contant for all time and equal to gravity\n",
    "\n",
    "We need to times by step size since we may not be incrementing 1 second at a time"
   ]
  },
  {
   "cell_type": "code",
   "execution_count": 14,
   "metadata": {},
   "outputs": [
    {
     "data": {
      "text/plain": [
       "[<matplotlib.lines.Line2D at 0x211519b5730>]"
      ]
     },
     "execution_count": 14,
     "metadata": {},
     "output_type": "execute_result"
    },
    {
     "data": {
      "image/png": "[encoded data removed]",
      "text/plain": [
       "<Figure size 432x288 with 1 Axes>"
      ]
     },
     "metadata": {
      "needs_background": "light"
     },
     "output_type": "display_data"
    }
   ],
   "source": [
    "height = [0]\n",
    "velocity = [v_init]\n",
    "\n",
    "for i,t in enumerate(time): # Enumerate function outpots an index (i) and the element (t) of the list/array\n",
    "    velocity.append(velocity[i]+g*step_size)\n",
    "    height.append(height[i]+velocity[i]*step_size)\n",
    "   \n",
    "plt.plot(time,height[:-1],'k.-')"
   ]
  },
  {
   "cell_type": "code",
   "execution_count": 15,
   "metadata": {},
   "outputs": [
    {
     "data": {
      "text/plain": [
       "[<matplotlib.lines.Line2D at 0x21152152820>]"
      ]
     },
     "execution_count": 15,
     "metadata": {},
     "output_type": "execute_result"
    },
    {
     "data": {
      "image/png": "[encoded data removed]",
      "text/plain": [
       "<Figure size 432x288 with 1 Axes>"
      ]
     },
     "metadata": {
      "needs_background": "light"
     },
     "output_type": "display_data"
    }
   ],
   "source": [
    "plt.plot(time,velocity[:-1],'k.-')"
   ]
  },
  {
   "cell_type": "markdown",
   "metadata": {},
   "source": [
    "### Your turn: Series\n",
    "\n",
    "Write your own iterative sequence to evaluate the following:\n",
    "- The first three numbers in a sequence are 1, 3, 7. \n",
    "- The following number is equal to the ratio of the differences of the previous three numbers, with the most recent numbers on the numerator  (eg the 4th number is (7-3) /(3-1) = 2)\n",
    "\n",
    "Determine:\n",
    "- What is the 107th number in the sequence?\n",
    "- What is the largest number that occurs after 1000 iterations?\n",
    "(Note that they will not be integers for very long!)\n"
   ]
  },
  {
   "cell_type": "code",
   "execution_count": null,
   "metadata": {},
   "outputs": [],
   "source": []
  },
  {
   "cell_type": "markdown",
   "metadata": {},
   "source": [
    "# Advanced - Iterative methods"
   ]
  },
  {
   "cell_type": "markdown",
   "metadata": {},
   "source": [
    "## Newton-Raphson Method\n",
    "\n",
    "<img src=\"https://pythonnumericalmethods.berkeley.edu/_images/19.04.01-Newton-step.png\" alt=\"Newton-Raphson Method\" ALIGN=\"right\" style=\"width: 250px;\"/>\n",
    "\n",
    "This is an algorithm for finding the roots of a function. This is done by repetedly calulating the tangent at a point and slowly walking towards the root which would be at gradient = 0.\n",
    "This is the function used:\n",
    "\n",
    "$$ x_{n+1}=x_n-\\frac {f(x_n)}{f'(x_n)} $$\n",
    "where $f(x_n)$ is the function value at point $x_n$   \n",
    "$f'(x_n)$ is the derivative for the function f at point $x_n$   \n",
    "$x_{n+1}$ is the new imporved apporximation for the position fo the root \n",
    "\n"
   ]
  },
  {
   "cell_type": "markdown",
   "metadata": {},
   "source": [
    "Let's try using it with a simple function like\n",
    "$$f(x) = x^2 - 2$$\n",
    "The derivative of which is easy to determine as:\n",
    "$$f'(x) = 2x $$"
   ]
  },
  {
   "cell_type": "markdown",
   "metadata": {},
   "source": [
    "We will be feeding values into these two functions often so lets actually make them into functions. Instead of the usual method of `def` we can define a small function using `lambda` which works as shown below."
   ]
  },
  {
   "cell_type": "code",
   "execution_count": 16,
   "metadata": {},
   "outputs": [
    {
     "name": "stdout",
     "output_type": "stream",
     "text": [
      "-2\n"
     ]
    }
   ],
   "source": [
    "f = lambda x: x**2 - 2\n",
    "print(f(0))"
   ]
  },
  {
   "cell_type": "code",
   "execution_count": 17,
   "metadata": {},
   "outputs": [],
   "source": [
    "#Similarly for f_prime\n",
    "f_prime = lambda x: 2*x"
   ]
  },
  {
   "cell_type": "markdown",
   "metadata": {},
   "source": [
    "Now to make our newton method loop"
   ]
  },
  {
   "cell_type": "code",
   "execution_count": 18,
   "metadata": {},
   "outputs": [
    {
     "name": "stdout",
     "output_type": "stream",
     "text": [
      "1.5\n",
      "1.4166666666666667\n",
      "1.4142156862745099\n",
      "1.4142135623746899\n"
     ]
    }
   ],
   "source": [
    "tolerance = 0.00001\n",
    "x = 1 # our initial guess x_0\n",
    "Error = 100 # Initialise error with a high value\n",
    "\n",
    "while abs(Error) > tolerance:\n",
    "    Error = f(x)/f_prime(x)\n",
    "    x = x - Error\n",
    "    print(x)"
   ]
  },
  {
   "cell_type": "markdown",
   "metadata": {},
   "source": [
    "Lets compare it to the actual answer $\\sqrt{2}$"
   ]
  },
  {
   "cell_type": "code",
   "execution_count": 19,
   "metadata": {},
   "outputs": [
    {
     "name": "stdout",
     "output_type": "stream",
     "text": [
      "1.4142135623730951\n",
      "Difference = 0.000000000001595\n"
     ]
    }
   ],
   "source": [
    "print(2**0.5)\n",
    "print(f'Difference = {(x-2**0.5):.15f}')"
   ]
  },
  {
   "cell_type": "markdown",
   "metadata": {},
   "source": [
    "If you make the tolerance smaller this will reduce the difference."
   ]
  },
  {
   "cell_type": "markdown",
   "metadata": {},
   "source": [
    "### Your turn: Root finding\n",
    "\n",
    "Using newtons method find all three roots of this equation \n",
    "$$ f(x) = 3x^4  - x^2$$\n",
    "\n",
    "One of the should be close to 0.58"
   ]
  },
  {
   "cell_type": "code",
   "execution_count": null,
   "metadata": {},
   "outputs": [],
   "source": []
  },
  {
   "cell_type": "markdown",
   "metadata": {},
   "source": [
    "## Integration\n",
    "\n",
    "In our simulation example we were essentially doing an integral, going from acceleration to velocity to height. Here we will generalise doing integrals using loops.\n",
    "\n",
    "Lets try compute the integral for\n",
    "$$ \\frac{dx}{dt} = \\frac{sin(t)}{t} $$\n",
    "\n",
    "To do this we will use finite difference method (specifically the forward difference) which involves slowly steping through the function x(t) using a small timestep."
   ]
  },
  {
   "cell_type": "markdown",
   "metadata": {},
   "source": [
    "Same as before we set up our variables"
   ]
  },
  {
   "cell_type": "code",
   "execution_count": 21,
   "metadata": {},
   "outputs": [],
   "source": [
    "#Begin by defining our range of t values\n",
    "t_min = 0\n",
    "t_max = 100 \n",
    "timestep = 0.01  # same as step_size but renamed to be specific to time and not something else like space"
   ]
  },
  {
   "cell_type": "markdown",
   "metadata": {},
   "source": [
    "Make our time vector"
   ]
  },
  {
   "cell_type": "code",
   "execution_count": 22,
   "metadata": {},
   "outputs": [
    {
     "data": {
      "text/plain": [
       "array([0.000e+00, 1.000e-02, 2.000e-02, ..., 9.997e+01, 9.998e+01,\n",
       "       9.999e+01])"
      ]
     },
     "execution_count": 22,
     "metadata": {},
     "output_type": "execute_result"
    }
   ],
   "source": [
    "time = np.arange(t_min,t_max,timestep)\n",
    "time"
   ]
  },
  {
   "cell_type": "markdown",
   "metadata": {},
   "source": [
    "Make an empty array of size `len(time)` so values can be saved to it"
   ]
  },
  {
   "cell_type": "code",
   "execution_count": 23,
   "metadata": {},
   "outputs": [
    {
     "data": {
      "text/plain": [
       "array([0., 0., 0., ..., 0., 0., 0.])"
      ]
     },
     "execution_count": 23,
     "metadata": {},
     "output_type": "execute_result"
    }
   ],
   "source": [
    "x = np.zeros(len(time))\n",
    "x"
   ]
  },
  {
   "cell_type": "markdown",
   "metadata": {},
   "source": [
    "Finally we set our initial condition for x and then begin integrating using the following form:\n",
    "\n",
    "$$x(i) = x(i-1) + \\frac{dx}{dt}(i)\\times \\Delta t$$\n",
    "\n",
    "This is called the 'Forward euler method' and is a type of finite numerical method approximation."
   ]
  },
  {
   "cell_type": "code",
   "execution_count": 24,
   "metadata": {},
   "outputs": [],
   "source": [
    "def derivative(t):\n",
    "    return np.sin(t)/t"
   ]
  },
  {
   "cell_type": "code",
   "execution_count": 25,
   "metadata": {},
   "outputs": [
    {
     "data": {
      "text/plain": [
       "[<matplotlib.lines.Line2D at 0x211521c49a0>]"
      ]
     },
     "execution_count": 25,
     "metadata": {},
     "output_type": "execute_result"
    },
    {
     "data": {
      "image/png": "[encoded data removed]",
      "text/plain": [
       "<Figure size 432x288 with 1 Axes>"
      ]
     },
     "metadata": {
      "needs_background": "light"
     },
     "output_type": "display_data"
    }
   ],
   "source": [
    "x_init = 0 #our initial condition\n",
    "\n",
    "for i in range(len(time)):\n",
    "    # We need an if-statement to catch the first case, because t(n-1) doesn't exist for n = 0\n",
    "    if i == 0:\n",
    "        x[i] = x_init\n",
    "    else: \n",
    "        # Below is the step function we have calculated\n",
    "        x[i] = x[i-1] + derivative(time[i]) * timestep\n",
    "\n",
    "# Plot our answer\n",
    "plt.plot(time,x,'k-')"
   ]
  },
  {
   "cell_type": "markdown",
   "metadata": {},
   "source": [
    "### Your turn: Integral\n",
    "Compute and plot the integral to \n",
    "$$\\frac{dx}{dt} = tan( \\ 5 \\ sin(t))$$\n",
    "\n",
    "Start at x = -10   \n",
    "Compute from t = 10 to 50   \n",
    "Use a timestep of 0.25   \n",
    "\n",
    "Then find the minimum and maximum values of the function, they should be:\n",
    "-73.2 and -5.9"
   ]
  },
  {
   "cell_type": "code",
   "execution_count": null,
   "metadata": {},
   "outputs": [],
   "source": []
  }
 ],
 "metadata": {
  "kernelspec": {
   "display_name": "Python 3 (ipykernel)",
   "language": "python",
   "name": "python3"
  },
  "language_info": {
   "codemirror_mode": {
    "name": "ipython",
    "version": 3
   },
   "file_extension": ".py",
   "mimetype": "text/x-python",
   "name": "python",
   "nbconvert_exporter": "python",
   "pygments_lexer": "ipython3",
   "version": "3.9.16"
  }
 },
 "nbformat": 4,
 "nbformat_minor": 4
}

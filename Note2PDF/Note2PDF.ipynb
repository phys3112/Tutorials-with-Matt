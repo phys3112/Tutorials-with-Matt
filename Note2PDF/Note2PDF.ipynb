{
 "cells": [
  {
   "cell_type": "markdown",
   "id": "66c3b1ce",
   "metadata": {},
   "source": [
    "First try \n",
    "File > Download as > PDF via HTML\n",
    "\n",
    "You may get the error:\n",
    "![error](Error.png)"
   ]
  },
  {
   "cell_type": "markdown",
   "id": "89f3bf89",
   "metadata": {},
   "source": [
    "If so, run the next three cells below.\n",
    "\n",
    "after, end jupyter by clsing the terminal and reopen it (restating the kernal alone often isn't enough)"
   ]
  },
  {
   "cell_type": "code",
   "execution_count": 1,
   "id": "f4184fd8",
   "metadata": {},
   "outputs": [
    {
     "name": "stdout",
     "output_type": "stream",
     "text": [
      "\n",
      "Note: you may need to restart the kernel to use updated packages.\n"
     ]
    }
   ],
   "source": [
    "%conda update -n base -c conda-forge conda"
   ]
  },
  {
   "cell_type": "code",
   "execution_count": null,
   "id": "41371053",
   "metadata": {},
   "outputs": [],
   "source": [
    "%conda install nbconvert[webpdf]"
   ]
  },
  {
   "cell_type": "code",
   "execution_count": null,
   "id": "76adc7ef",
   "metadata": {},
   "outputs": [],
   "source": [
    "%conda install pandoc"
   ]
  },
  {
   "cell_type": "markdown",
   "id": "5e8ad56c",
   "metadata": {},
   "source": [
    "All the stuff below this is testing the conversion functionality"
   ]
  },
  {
   "cell_type": "markdown",
   "id": "ff732dd8",
   "metadata": {},
   "source": [
    "# Title\n",
    "## sub title"
   ]
  },
  {
   "cell_type": "code",
   "execution_count": null,
   "id": "519d9f98",
   "metadata": {},
   "outputs": [],
   "source": [
    "1 + 1"
   ]
  },
  {
   "cell_type": "markdown",
   "id": "03db2e7b",
   "metadata": {},
   "source": [
    "* point 1\n",
    "* point 2"
   ]
  },
  {
   "cell_type": "code",
   "execution_count": null,
   "id": "c0ff837e",
   "metadata": {},
   "outputs": [],
   "source": [
    "import seaborn as sns\n",
    "sns.set_theme(style=\"ticks\")\n",
    "\n",
    "dots = sns.load_dataset(\"dots\")\n",
    "\n",
    "# Define the palette as a list to specify exact values\n",
    "palette = sns.color_palette(\"rocket_r\")\n",
    "\n",
    "# Plot the lines on two facets\n",
    "sns.relplot(\n",
    "    data=dots,\n",
    "    x=\"time\", y=\"firing_rate\",\n",
    "    hue=\"coherence\", size=\"choice\", col=\"align\",\n",
    "    kind=\"line\", size_order=[\"T1\", \"T2\"], palette=palette,\n",
    "    height=5, aspect=.75, facet_kws=dict(sharex=False),\n",
    ")"
   ]
  },
  {
   "cell_type": "markdown",
   "id": "67a2bebd",
   "metadata": {},
   "source": [
    "$$E=mc^2$$"
   ]
  },
  {
   "cell_type": "markdown",
   "id": "479ede22",
   "metadata": {},
   "source": [
    "$$\n",
    "\\begin{align}\n",
    "a = \\frac{1}{2} && b = \\frac{1}{3} && c = \\frac{1}{4} \\\\\n",
    "\\alpha && \\beta && \\kappa\n",
    "\\end{align}\n",
    "$$"
   ]
  },
  {
   "cell_type": "code",
   "execution_count": null,
   "id": "8921dda9",
   "metadata": {},
   "outputs": [],
   "source": [
    "import pandas as pd\n",
    "\n",
    "data = {\n",
    "  \"calories\": [420, 380, 390],\n",
    "  \"duration\": [50, 40, 45]\n",
    "}\n",
    "\n",
    "#load data into a DataFrame object:\n",
    "df = pd.DataFrame(data)\n",
    "\n",
    "df"
   ]
  },
  {
   "cell_type": "code",
   "execution_count": null,
   "id": "4da39997",
   "metadata": {},
   "outputs": [],
   "source": []
  }
 ],
 "metadata": {
  "kernelspec": {
   "display_name": "Python 3 (ipykernel)",
   "language": "python",
   "name": "python3"
  },
  "language_info": {
   "codemirror_mode": {
    "name": "ipython",
    "version": 3
   },
   "file_extension": ".py",
   "mimetype": "text/x-python",
   "name": "python",
   "nbconvert_exporter": "python",
   "pygments_lexer": "ipython3",
   "version": "3.9.16"
  }
 },
 "nbformat": 4,
 "nbformat_minor": 5
}

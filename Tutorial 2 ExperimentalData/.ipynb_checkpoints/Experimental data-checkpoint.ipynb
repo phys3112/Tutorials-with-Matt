{
 "cells": [
  {
   "cell_type": "markdown",
   "metadata": {},
   "source": [
    "# Experimental data\n",
    "\n",
    "<img src=\"https://upload.wikimedia.org/wikipedia/commons/6/6f/Pendulum-no-text.gif\" alt=\"Pendulum\" ALIGN=\"right\" style=\"width: 300px;\"/>\n",
    "\n",
    "### Aim:\n",
    "To visualise data obtained from a pendulum experiment, and extract useful information from a messy data file. \\\n",
    "*No physics knowledge required.*\n",
    "\n",
    "### Data file requirements:\n",
    "*Double pendulum.txt* \\\n",
    "*Modulated signal.csv*\n",
    "\n",
    "### Non-anaconda python libaries:\n",
    "None\n",
    "\n",
    "### Prerequisites:\n",
    "* Basics\n",
    "* Plotting\n",
    "\n",
    "### Primary Outcomes:\n",
    "* Converting messy input files to a clean pandas dataframe.\n",
    "\n",
    "### Secondary Outcomes:\n",
    "* Importing data from text files\n",
    "* Manipulating Pandas dataframes\n",
    "\n",
    "## Background:\n",
    "So you have just done a experiment measuring the angle of a pendulum using a data logger. \\\n",
    "Now you want to read (import) that data into python to give it a look and analyse it.\n",
    "\n",
    "Since its data from a pendulum we expect get a time vs angle graph that looks like a sin function similar to below.\n",
    "\n",
    "<img src=\"PendulumData.png\" alt=\"Pendulum plot\" ALIGN=\"centre\" style=\"width: 400px;\"/>"
   ]
  },
  {
   "cell_type": "markdown",
   "metadata": {},
   "source": [
    "# Importing the data"
   ]
  },
  {
   "cell_type": "code",
   "execution_count": 1,
   "metadata": {},
   "outputs": [],
   "source": [
    "#First we import a few packages we will need \n",
    "import numpy as np               # for dealing with math\n",
    "import pandas as pd              # for tables\n",
    "import matplotlib.pyplot as plt  # for plotting\n",
    "%matplotlib inline"
   ]
  },
  {
   "cell_type": "markdown",
   "metadata": {},
   "source": [
    "The data we want to import is called \\\n",
    "Double pendulum.txt \\\n",
    "It must be placed in the same directory as this notebook for the code below to work as expected.\n",
    "\n",
    "The text file contains data from a pendulum experiment. \\\n",
    "It has three columns one for time, two for voltage. Each voltage is directly related to the angle of one pendulum. \\\n",
    "In this dataset two pendula were being mesured simultaniously.\n",
    "\n",
    "The first row (Header) of the file contains the descriptions of the data beneith it in that column. The second row contains the units for each of the values (s = seconds, V = Volts)\n",
    "\n",
    "Below is an image of the text file, however it is highly encoraged for you to open it yourself with a text editor such as notepad.\n",
    "![Text file image](textfileimage.png \"Text file image\")"
   ]
  },
  {
   "cell_type": "markdown",
   "metadata": {},
   "source": [
    "We will be using Pandas to deal with our data tables. Pandas has a function called read_csv that can be used to read a variety of files (find more info in the documentation [here](https://pandas.pydata.org/docs/reference/api/pandas.read_csv.html))\n",
    "\n",
    "Note, a CSV stands for Comma Seperated Values file."
   ]
  },
  {
   "cell_type": "code",
   "execution_count": 2,
   "metadata": {},
   "outputs": [],
   "source": [
    "dataTable = pd.read_csv('Double pendulum.txt') \n",
    "# Here we use the read_csv funtion to read in our file, but we do not include any of the optional arguments"
   ]
  },
  {
   "cell_type": "code",
   "execution_count": 3,
   "metadata": {},
   "outputs": [
    {
     "data": {
      "text/html": [
       "<div>\n",
       "<style scoped>\n",
       "    .dataframe tbody tr th:only-of-type {\n",
       "        vertical-align: middle;\n",
       "    }\n",
       "\n",
       "    .dataframe tbody tr th {\n",
       "        vertical-align: top;\n",
       "    }\n",
       "\n",
       "    .dataframe thead th {\n",
       "        text-align: right;\n",
       "    }\n",
       "</style>\n",
       "<table border=\"1\" class=\"dataframe\">\n",
       "  <thead>\n",
       "    <tr style=\"text-align: right;\">\n",
       "      <th></th>\n",
       "      <th>Time\\tUI (ID 01) / Voltage U\\tUI (ID 03) / Voltage U</th>\n",
       "    </tr>\n",
       "  </thead>\n",
       "  <tbody>\n",
       "    <tr>\n",
       "      <th>0</th>\n",
       "      <td>t/s\\tU/V\\tU/V</td>\n",
       "    </tr>\n",
       "    <tr>\n",
       "      <th>1</th>\n",
       "      <td>0.00\\t-0.01\\t-0.03</td>\n",
       "    </tr>\n",
       "    <tr>\n",
       "      <th>2</th>\n",
       "      <td>0.00\\t-0.01\\t-0.02</td>\n",
       "    </tr>\n",
       "    <tr>\n",
       "      <th>3</th>\n",
       "      <td>0.00\\t-0.01\\t-0.02</td>\n",
       "    </tr>\n",
       "    <tr>\n",
       "      <th>4</th>\n",
       "      <td>0.00\\t-0.03\\t-0.02</td>\n",
       "    </tr>\n",
       "    <tr>\n",
       "      <th>...</th>\n",
       "      <td>...</td>\n",
       "    </tr>\n",
       "    <tr>\n",
       "      <th>120696</th>\n",
       "      <td>60.35\\t-0.25\\t-0.26</td>\n",
       "    </tr>\n",
       "    <tr>\n",
       "      <th>120697</th>\n",
       "      <td>60.35\\t-0.25\\t-0.26</td>\n",
       "    </tr>\n",
       "    <tr>\n",
       "      <th>120698</th>\n",
       "      <td>60.35\\t-0.25\\t-0.26</td>\n",
       "    </tr>\n",
       "    <tr>\n",
       "      <th>120699</th>\n",
       "      <td>60.35\\t-0.25\\t-0.26</td>\n",
       "    </tr>\n",
       "    <tr>\n",
       "      <th>120700</th>\n",
       "      <td>60.35\\t-0.24\\t-0.27</td>\n",
       "    </tr>\n",
       "  </tbody>\n",
       "</table>\n",
       "<p>120701 rows × 1 columns</p>\n",
       "</div>"
      ],
      "text/plain": [
       "       Time\\tUI (ID 01) / Voltage U\\tUI (ID 03) / Voltage U\n",
       "0                                           t/s\\tU/V\\tU/V  \n",
       "1                                      0.00\\t-0.01\\t-0.03  \n",
       "2                                      0.00\\t-0.01\\t-0.02  \n",
       "3                                      0.00\\t-0.01\\t-0.02  \n",
       "4                                      0.00\\t-0.03\\t-0.02  \n",
       "...                                                   ...  \n",
       "120696                                60.35\\t-0.25\\t-0.26  \n",
       "120697                                60.35\\t-0.25\\t-0.26  \n",
       "120698                                60.35\\t-0.25\\t-0.26  \n",
       "120699                                60.35\\t-0.25\\t-0.26  \n",
       "120700                                60.35\\t-0.24\\t-0.27  \n",
       "\n",
       "[120701 rows x 1 columns]"
      ]
     },
     "execution_count": 3,
     "metadata": {},
     "output_type": "execute_result"
    }
   ],
   "source": [
    "dataTable \n",
    "#In Jupyter notebook simply writing the name of the object you are intrest in will typically print it to screen"
   ]
  },
  {
   "cell_type": "markdown",
   "metadata": {},
   "source": [
    "Hmmm, our data doesn't look like it was imported right. There are only two columns, one is just couting the rows and the other has all the data squashed together with \\t everywhere.\n",
    "\n",
    "This is because our data is actually saved as a diffrent format a \"TSV\" Tab Spaced Values format. This can still be read by pd.read_csv but we will need to tell the function to use a tab \"\\t\" as a seperator instead of the default it is expecting which is a comma \",\".\n",
    "\n",
    "If you are think, how could I have been expected to figure that out? This information can be found in the documentation for the [function](https://pandas.pydata.org/docs/reference/api/pandas.read_csv.html). But what is more likely is you could have googled the problem and found a solution on stack overflow or some other code related message board, it is recomended you get used to this as this is how anyone learning code figures things out."
   ]
  },
  {
   "cell_type": "code",
   "execution_count": 4,
   "metadata": {},
   "outputs": [
    {
     "data": {
      "text/html": [
       "<div>\n",
       "<style scoped>\n",
       "    .dataframe tbody tr th:only-of-type {\n",
       "        vertical-align: middle;\n",
       "    }\n",
       "\n",
       "    .dataframe tbody tr th {\n",
       "        vertical-align: top;\n",
       "    }\n",
       "\n",
       "    .dataframe thead th {\n",
       "        text-align: right;\n",
       "    }\n",
       "</style>\n",
       "<table border=\"1\" class=\"dataframe\">\n",
       "  <thead>\n",
       "    <tr style=\"text-align: right;\">\n",
       "      <th></th>\n",
       "      <th>Time</th>\n",
       "      <th>UI (ID 01) / Voltage U</th>\n",
       "      <th>UI (ID 03) / Voltage U</th>\n",
       "    </tr>\n",
       "  </thead>\n",
       "  <tbody>\n",
       "    <tr>\n",
       "      <th>0</th>\n",
       "      <td>t/s</td>\n",
       "      <td>U/V</td>\n",
       "      <td>U/V</td>\n",
       "    </tr>\n",
       "    <tr>\n",
       "      <th>1</th>\n",
       "      <td>0.00</td>\n",
       "      <td>-0.01</td>\n",
       "      <td>-0.03</td>\n",
       "    </tr>\n",
       "    <tr>\n",
       "      <th>2</th>\n",
       "      <td>0.00</td>\n",
       "      <td>-0.01</td>\n",
       "      <td>-0.02</td>\n",
       "    </tr>\n",
       "    <tr>\n",
       "      <th>3</th>\n",
       "      <td>0.00</td>\n",
       "      <td>-0.01</td>\n",
       "      <td>-0.02</td>\n",
       "    </tr>\n",
       "    <tr>\n",
       "      <th>4</th>\n",
       "      <td>0.00</td>\n",
       "      <td>-0.03</td>\n",
       "      <td>-0.02</td>\n",
       "    </tr>\n",
       "    <tr>\n",
       "      <th>...</th>\n",
       "      <td>...</td>\n",
       "      <td>...</td>\n",
       "      <td>...</td>\n",
       "    </tr>\n",
       "    <tr>\n",
       "      <th>120696</th>\n",
       "      <td>60.35</td>\n",
       "      <td>-0.25</td>\n",
       "      <td>-0.26</td>\n",
       "    </tr>\n",
       "    <tr>\n",
       "      <th>120697</th>\n",
       "      <td>60.35</td>\n",
       "      <td>-0.25</td>\n",
       "      <td>-0.26</td>\n",
       "    </tr>\n",
       "    <tr>\n",
       "      <th>120698</th>\n",
       "      <td>60.35</td>\n",
       "      <td>-0.25</td>\n",
       "      <td>-0.26</td>\n",
       "    </tr>\n",
       "    <tr>\n",
       "      <th>120699</th>\n",
       "      <td>60.35</td>\n",
       "      <td>-0.25</td>\n",
       "      <td>-0.26</td>\n",
       "    </tr>\n",
       "    <tr>\n",
       "      <th>120700</th>\n",
       "      <td>60.35</td>\n",
       "      <td>-0.24</td>\n",
       "      <td>-0.27</td>\n",
       "    </tr>\n",
       "  </tbody>\n",
       "</table>\n",
       "<p>120701 rows × 3 columns</p>\n",
       "</div>"
      ],
      "text/plain": [
       "         Time UI (ID 01) / Voltage U UI (ID 03) / Voltage U\n",
       "0         t/s                    U/V                    U/V\n",
       "1        0.00                  -0.01                  -0.03\n",
       "2        0.00                  -0.01                  -0.02\n",
       "3        0.00                  -0.01                  -0.02\n",
       "4        0.00                  -0.03                  -0.02\n",
       "...       ...                    ...                    ...\n",
       "120696  60.35                  -0.25                  -0.26\n",
       "120697  60.35                  -0.25                  -0.26\n",
       "120698  60.35                  -0.25                  -0.26\n",
       "120699  60.35                  -0.25                  -0.26\n",
       "120700  60.35                  -0.24                  -0.27\n",
       "\n",
       "[120701 rows x 3 columns]"
      ]
     },
     "execution_count": 4,
     "metadata": {},
     "output_type": "execute_result"
    }
   ],
   "source": [
    "dataTable = pd.read_csv('Double pendulum.txt',sep='\\t') # Adding a separation \n",
    "dataTable # printing the table"
   ]
  },
  {
   "cell_type": "markdown",
   "metadata": {},
   "source": [
    "That looks better but it would be nice if we got rid of the first row which isn't actually data. This can be done by telling read_csv what row the header (additional information found in data files that are not the actual data) starts at. "
   ]
  },
  {
   "cell_type": "code",
   "execution_count": 5,
   "metadata": {},
   "outputs": [
    {
     "data": {
      "text/html": [
       "<div>\n",
       "<style scoped>\n",
       "    .dataframe tbody tr th:only-of-type {\n",
       "        vertical-align: middle;\n",
       "    }\n",
       "\n",
       "    .dataframe tbody tr th {\n",
       "        vertical-align: top;\n",
       "    }\n",
       "\n",
       "    .dataframe thead th {\n",
       "        text-align: right;\n",
       "    }\n",
       "</style>\n",
       "<table border=\"1\" class=\"dataframe\">\n",
       "  <thead>\n",
       "    <tr style=\"text-align: right;\">\n",
       "      <th></th>\n",
       "      <th>t/s</th>\n",
       "      <th>U/V</th>\n",
       "      <th>U/V.1</th>\n",
       "    </tr>\n",
       "  </thead>\n",
       "  <tbody>\n",
       "    <tr>\n",
       "      <th>0</th>\n",
       "      <td>0.00</td>\n",
       "      <td>-0.01</td>\n",
       "      <td>-0.03</td>\n",
       "    </tr>\n",
       "    <tr>\n",
       "      <th>1</th>\n",
       "      <td>0.00</td>\n",
       "      <td>-0.01</td>\n",
       "      <td>-0.02</td>\n",
       "    </tr>\n",
       "    <tr>\n",
       "      <th>2</th>\n",
       "      <td>0.00</td>\n",
       "      <td>-0.01</td>\n",
       "      <td>-0.02</td>\n",
       "    </tr>\n",
       "    <tr>\n",
       "      <th>3</th>\n",
       "      <td>0.00</td>\n",
       "      <td>-0.03</td>\n",
       "      <td>-0.02</td>\n",
       "    </tr>\n",
       "    <tr>\n",
       "      <th>4</th>\n",
       "      <td>0.00</td>\n",
       "      <td>-0.01</td>\n",
       "      <td>-0.02</td>\n",
       "    </tr>\n",
       "    <tr>\n",
       "      <th>...</th>\n",
       "      <td>...</td>\n",
       "      <td>...</td>\n",
       "      <td>...</td>\n",
       "    </tr>\n",
       "    <tr>\n",
       "      <th>120695</th>\n",
       "      <td>60.35</td>\n",
       "      <td>-0.25</td>\n",
       "      <td>-0.26</td>\n",
       "    </tr>\n",
       "    <tr>\n",
       "      <th>120696</th>\n",
       "      <td>60.35</td>\n",
       "      <td>-0.25</td>\n",
       "      <td>-0.26</td>\n",
       "    </tr>\n",
       "    <tr>\n",
       "      <th>120697</th>\n",
       "      <td>60.35</td>\n",
       "      <td>-0.25</td>\n",
       "      <td>-0.26</td>\n",
       "    </tr>\n",
       "    <tr>\n",
       "      <th>120698</th>\n",
       "      <td>60.35</td>\n",
       "      <td>-0.25</td>\n",
       "      <td>-0.26</td>\n",
       "    </tr>\n",
       "    <tr>\n",
       "      <th>120699</th>\n",
       "      <td>60.35</td>\n",
       "      <td>-0.24</td>\n",
       "      <td>-0.27</td>\n",
       "    </tr>\n",
       "  </tbody>\n",
       "</table>\n",
       "<p>120700 rows × 3 columns</p>\n",
       "</div>"
      ],
      "text/plain": [
       "          t/s   U/V  U/V.1\n",
       "0        0.00 -0.01  -0.03\n",
       "1        0.00 -0.01  -0.02\n",
       "2        0.00 -0.01  -0.02\n",
       "3        0.00 -0.03  -0.02\n",
       "4        0.00 -0.01  -0.02\n",
       "...       ...   ...    ...\n",
       "120695  60.35 -0.25  -0.26\n",
       "120696  60.35 -0.25  -0.26\n",
       "120697  60.35 -0.25  -0.26\n",
       "120698  60.35 -0.25  -0.26\n",
       "120699  60.35 -0.24  -0.27\n",
       "\n",
       "[120700 rows x 3 columns]"
      ]
     },
     "execution_count": 5,
     "metadata": {},
     "output_type": "execute_result"
    }
   ],
   "source": [
    "dataTable = pd.read_csv('Double pendulum.txt',sep='\\t',header=1) # Setting what row to read as our heading\n",
    "dataTable # printing the table"
   ]
  },
  {
   "cell_type": "markdown",
   "metadata": {},
   "source": [
    "Great, now our table is usable, but one more refinement is worth it, lets rename our columns so that they are easily accessable."
   ]
  },
  {
   "cell_type": "code",
   "execution_count": 6,
   "metadata": {},
   "outputs": [
    {
     "data": {
      "text/html": [
       "<div>\n",
       "<style scoped>\n",
       "    .dataframe tbody tr th:only-of-type {\n",
       "        vertical-align: middle;\n",
       "    }\n",
       "\n",
       "    .dataframe tbody tr th {\n",
       "        vertical-align: top;\n",
       "    }\n",
       "\n",
       "    .dataframe thead th {\n",
       "        text-align: right;\n",
       "    }\n",
       "</style>\n",
       "<table border=\"1\" class=\"dataframe\">\n",
       "  <thead>\n",
       "    <tr style=\"text-align: right;\">\n",
       "      <th></th>\n",
       "      <th>time</th>\n",
       "      <th>voltage</th>\n",
       "      <th>voltage1</th>\n",
       "    </tr>\n",
       "  </thead>\n",
       "  <tbody>\n",
       "    <tr>\n",
       "      <th>0</th>\n",
       "      <td>0.00</td>\n",
       "      <td>-0.01</td>\n",
       "      <td>-0.03</td>\n",
       "    </tr>\n",
       "    <tr>\n",
       "      <th>1</th>\n",
       "      <td>0.00</td>\n",
       "      <td>-0.01</td>\n",
       "      <td>-0.02</td>\n",
       "    </tr>\n",
       "    <tr>\n",
       "      <th>2</th>\n",
       "      <td>0.00</td>\n",
       "      <td>-0.01</td>\n",
       "      <td>-0.02</td>\n",
       "    </tr>\n",
       "    <tr>\n",
       "      <th>3</th>\n",
       "      <td>0.00</td>\n",
       "      <td>-0.03</td>\n",
       "      <td>-0.02</td>\n",
       "    </tr>\n",
       "    <tr>\n",
       "      <th>4</th>\n",
       "      <td>0.00</td>\n",
       "      <td>-0.01</td>\n",
       "      <td>-0.02</td>\n",
       "    </tr>\n",
       "    <tr>\n",
       "      <th>...</th>\n",
       "      <td>...</td>\n",
       "      <td>...</td>\n",
       "      <td>...</td>\n",
       "    </tr>\n",
       "    <tr>\n",
       "      <th>120695</th>\n",
       "      <td>60.35</td>\n",
       "      <td>-0.25</td>\n",
       "      <td>-0.26</td>\n",
       "    </tr>\n",
       "    <tr>\n",
       "      <th>120696</th>\n",
       "      <td>60.35</td>\n",
       "      <td>-0.25</td>\n",
       "      <td>-0.26</td>\n",
       "    </tr>\n",
       "    <tr>\n",
       "      <th>120697</th>\n",
       "      <td>60.35</td>\n",
       "      <td>-0.25</td>\n",
       "      <td>-0.26</td>\n",
       "    </tr>\n",
       "    <tr>\n",
       "      <th>120698</th>\n",
       "      <td>60.35</td>\n",
       "      <td>-0.25</td>\n",
       "      <td>-0.26</td>\n",
       "    </tr>\n",
       "    <tr>\n",
       "      <th>120699</th>\n",
       "      <td>60.35</td>\n",
       "      <td>-0.24</td>\n",
       "      <td>-0.27</td>\n",
       "    </tr>\n",
       "  </tbody>\n",
       "</table>\n",
       "<p>120700 rows × 3 columns</p>\n",
       "</div>"
      ],
      "text/plain": [
       "         time  voltage  voltage1\n",
       "0        0.00    -0.01     -0.03\n",
       "1        0.00    -0.01     -0.02\n",
       "2        0.00    -0.01     -0.02\n",
       "3        0.00    -0.03     -0.02\n",
       "4        0.00    -0.01     -0.02\n",
       "...       ...      ...       ...\n",
       "120695  60.35    -0.25     -0.26\n",
       "120696  60.35    -0.25     -0.26\n",
       "120697  60.35    -0.25     -0.26\n",
       "120698  60.35    -0.25     -0.26\n",
       "120699  60.35    -0.24     -0.27\n",
       "\n",
       "[120700 rows x 3 columns]"
      ]
     },
     "execution_count": 6,
     "metadata": {},
     "output_type": "execute_result"
    }
   ],
   "source": [
    "dataTable.columns = [\"time\", \"voltage\", \"voltage1\"] # renaming columns headings\n",
    "dataTable # printing the table"
   ]
  },
  {
   "cell_type": "markdown",
   "metadata": {},
   "source": [
    "Much better, for the sake of this notebook we do not care about the second pendulum's values so lets drop unneded the column voltage1.\\\n",
    "This can be done a variety of ways but the simplest is by making a subtable excluding the columns you dont care about."
   ]
  },
  {
   "cell_type": "code",
   "execution_count": 7,
   "metadata": {},
   "outputs": [
    {
     "data": {
      "text/html": [
       "<div>\n",
       "<style scoped>\n",
       "    .dataframe tbody tr th:only-of-type {\n",
       "        vertical-align: middle;\n",
       "    }\n",
       "\n",
       "    .dataframe tbody tr th {\n",
       "        vertical-align: top;\n",
       "    }\n",
       "\n",
       "    .dataframe thead th {\n",
       "        text-align: right;\n",
       "    }\n",
       "</style>\n",
       "<table border=\"1\" class=\"dataframe\">\n",
       "  <thead>\n",
       "    <tr style=\"text-align: right;\">\n",
       "      <th></th>\n",
       "      <th>time</th>\n",
       "      <th>voltage</th>\n",
       "    </tr>\n",
       "  </thead>\n",
       "  <tbody>\n",
       "    <tr>\n",
       "      <th>0</th>\n",
       "      <td>0.00</td>\n",
       "      <td>-0.01</td>\n",
       "    </tr>\n",
       "    <tr>\n",
       "      <th>1</th>\n",
       "      <td>0.00</td>\n",
       "      <td>-0.01</td>\n",
       "    </tr>\n",
       "    <tr>\n",
       "      <th>2</th>\n",
       "      <td>0.00</td>\n",
       "      <td>-0.01</td>\n",
       "    </tr>\n",
       "    <tr>\n",
       "      <th>3</th>\n",
       "      <td>0.00</td>\n",
       "      <td>-0.03</td>\n",
       "    </tr>\n",
       "    <tr>\n",
       "      <th>4</th>\n",
       "      <td>0.00</td>\n",
       "      <td>-0.01</td>\n",
       "    </tr>\n",
       "    <tr>\n",
       "      <th>...</th>\n",
       "      <td>...</td>\n",
       "      <td>...</td>\n",
       "    </tr>\n",
       "    <tr>\n",
       "      <th>120695</th>\n",
       "      <td>60.35</td>\n",
       "      <td>-0.25</td>\n",
       "    </tr>\n",
       "    <tr>\n",
       "      <th>120696</th>\n",
       "      <td>60.35</td>\n",
       "      <td>-0.25</td>\n",
       "    </tr>\n",
       "    <tr>\n",
       "      <th>120697</th>\n",
       "      <td>60.35</td>\n",
       "      <td>-0.25</td>\n",
       "    </tr>\n",
       "    <tr>\n",
       "      <th>120698</th>\n",
       "      <td>60.35</td>\n",
       "      <td>-0.25</td>\n",
       "    </tr>\n",
       "    <tr>\n",
       "      <th>120699</th>\n",
       "      <td>60.35</td>\n",
       "      <td>-0.24</td>\n",
       "    </tr>\n",
       "  </tbody>\n",
       "</table>\n",
       "<p>120700 rows × 2 columns</p>\n",
       "</div>"
      ],
      "text/plain": [
       "         time  voltage\n",
       "0        0.00    -0.01\n",
       "1        0.00    -0.01\n",
       "2        0.00    -0.01\n",
       "3        0.00    -0.03\n",
       "4        0.00    -0.01\n",
       "...       ...      ...\n",
       "120695  60.35    -0.25\n",
       "120696  60.35    -0.25\n",
       "120697  60.35    -0.25\n",
       "120698  60.35    -0.25\n",
       "120699  60.35    -0.24\n",
       "\n",
       "[120700 rows x 2 columns]"
      ]
     },
     "execution_count": 7,
     "metadata": {},
     "output_type": "execute_result"
    }
   ],
   "source": [
    "# Saving the new smaller table that doesn not include voltage1 to the name \"smallerTable\"\n",
    "smallerTable = dataTable[[\"time\", \"voltage\"]]\n",
    "smallerTable"
   ]
  },
  {
   "cell_type": "markdown",
   "metadata": {},
   "source": [
    "If we are satisfied with our formatting we can also overwrite our old dataTable with the new smallerTable."
   ]
  },
  {
   "cell_type": "code",
   "execution_count": 8,
   "metadata": {},
   "outputs": [
    {
     "data": {
      "text/html": [
       "<div>\n",
       "<style scoped>\n",
       "    .dataframe tbody tr th:only-of-type {\n",
       "        vertical-align: middle;\n",
       "    }\n",
       "\n",
       "    .dataframe tbody tr th {\n",
       "        vertical-align: top;\n",
       "    }\n",
       "\n",
       "    .dataframe thead th {\n",
       "        text-align: right;\n",
       "    }\n",
       "</style>\n",
       "<table border=\"1\" class=\"dataframe\">\n",
       "  <thead>\n",
       "    <tr style=\"text-align: right;\">\n",
       "      <th></th>\n",
       "      <th>time</th>\n",
       "      <th>voltage</th>\n",
       "    </tr>\n",
       "  </thead>\n",
       "  <tbody>\n",
       "    <tr>\n",
       "      <th>0</th>\n",
       "      <td>0.00</td>\n",
       "      <td>-0.01</td>\n",
       "    </tr>\n",
       "    <tr>\n",
       "      <th>1</th>\n",
       "      <td>0.00</td>\n",
       "      <td>-0.01</td>\n",
       "    </tr>\n",
       "    <tr>\n",
       "      <th>2</th>\n",
       "      <td>0.00</td>\n",
       "      <td>-0.01</td>\n",
       "    </tr>\n",
       "    <tr>\n",
       "      <th>3</th>\n",
       "      <td>0.00</td>\n",
       "      <td>-0.03</td>\n",
       "    </tr>\n",
       "    <tr>\n",
       "      <th>4</th>\n",
       "      <td>0.00</td>\n",
       "      <td>-0.01</td>\n",
       "    </tr>\n",
       "    <tr>\n",
       "      <th>...</th>\n",
       "      <td>...</td>\n",
       "      <td>...</td>\n",
       "    </tr>\n",
       "    <tr>\n",
       "      <th>120695</th>\n",
       "      <td>60.35</td>\n",
       "      <td>-0.25</td>\n",
       "    </tr>\n",
       "    <tr>\n",
       "      <th>120696</th>\n",
       "      <td>60.35</td>\n",
       "      <td>-0.25</td>\n",
       "    </tr>\n",
       "    <tr>\n",
       "      <th>120697</th>\n",
       "      <td>60.35</td>\n",
       "      <td>-0.25</td>\n",
       "    </tr>\n",
       "    <tr>\n",
       "      <th>120698</th>\n",
       "      <td>60.35</td>\n",
       "      <td>-0.25</td>\n",
       "    </tr>\n",
       "    <tr>\n",
       "      <th>120699</th>\n",
       "      <td>60.35</td>\n",
       "      <td>-0.24</td>\n",
       "    </tr>\n",
       "  </tbody>\n",
       "</table>\n",
       "<p>120700 rows × 2 columns</p>\n",
       "</div>"
      ],
      "text/plain": [
       "         time  voltage\n",
       "0        0.00    -0.01\n",
       "1        0.00    -0.01\n",
       "2        0.00    -0.01\n",
       "3        0.00    -0.03\n",
       "4        0.00    -0.01\n",
       "...       ...      ...\n",
       "120695  60.35    -0.25\n",
       "120696  60.35    -0.25\n",
       "120697  60.35    -0.25\n",
       "120698  60.35    -0.25\n",
       "120699  60.35    -0.24\n",
       "\n",
       "[120700 rows x 2 columns]"
      ]
     },
     "execution_count": 8,
     "metadata": {},
     "output_type": "execute_result"
    }
   ],
   "source": [
    "dataTable = smallerTable\n",
    "dataTable"
   ]
  },
  {
   "cell_type": "markdown",
   "metadata": {},
   "source": [
    "## Cleaning the data\n",
    "\n",
    "Now that our data is imported correctly, lets have a look at it. We will use matplotlib's plt.plot function for a quick and dirty plot.\n",
    "Note that you can refrence a single column of the dataframe by using the DataFrame.ColumnName convention this produces a pandas series which is similar to a numpy array."
   ]
  },
  {
   "cell_type": "code",
   "execution_count": 9,
   "metadata": {},
   "outputs": [
    {
     "data": {
      "text/plain": [
       "pandas.core.series.Series"
      ]
     },
     "execution_count": 9,
     "metadata": {},
     "output_type": "execute_result"
    }
   ],
   "source": [
    "type(dataTable.time) #showing the type of a single column"
   ]
  },
  {
   "cell_type": "code",
   "execution_count": 10,
   "metadata": {
    "scrolled": true
   },
   "outputs": [
    {
     "data": {
      "text/plain": [
       "[<matplotlib.lines.Line2D at 0x2020d37ef70>]"
      ]
     },
     "execution_count": 10,
     "metadata": {},
     "output_type": "execute_result"
    },
    {
     "data": {
      "image/png": "[encoded data removed]",
      "text/plain": [
       "<Figure size 432x288 with 1 Axes>"
      ]
     },
     "metadata": {
      "needs_background": "light"
     },
     "output_type": "display_data"
    }
   ],
   "source": [
    "# A quick and dirty plot of our data\n",
    "plt.plot(dataTable.time,dataTable.voltage)"
   ]
  },
  {
   "cell_type": "markdown",
   "metadata": {},
   "source": [
    "This plot looks a bit odd, it doens't look anywhere as smooth as it should. Let us see what's going on in more detail by making it plot individual data points."
   ]
  },
  {
   "cell_type": "code",
   "execution_count": 11,
   "metadata": {},
   "outputs": [
    {
     "data": {
      "text/plain": [
       "[<matplotlib.lines.Line2D at 0x2020e54f5b0>]"
      ]
     },
     "execution_count": 11,
     "metadata": {},
     "output_type": "execute_result"
    },
    {
     "data": {
      "image/png": "[encoded data removed]",
      "text/plain": [
       "<Figure size 432x288 with 1 Axes>"
      ]
     },
     "metadata": {
      "needs_background": "light"
     },
     "output_type": "display_data"
    }
   ],
   "source": [
    "plt.plot(dataTable.time,dataTable.voltage,'.') #another look using dots instead of lines"
   ]
  },
  {
   "cell_type": "markdown",
   "metadata": {},
   "source": [
    "This looks very strange we should see a smooth distribution of points, not this discrete mess. Let's zoom in and look closer.\n",
    "\n",
    "To zoom in a simple way to do it is by only plotting a subset of the data.\n",
    "To select a subset of a pandas series (same as a single column of a dataFrame) you can use the slicing operation similar to a numpy array\n"
   ]
  },
  {
   "cell_type": "code",
   "execution_count": 12,
   "metadata": {
    "scrolled": true
   },
   "outputs": [
    {
     "data": {
      "text/plain": [
       "0     0.00\n",
       "1     0.00\n",
       "2     0.00\n",
       "3     0.00\n",
       "4     0.00\n",
       "      ... \n",
       "95    0.05\n",
       "96    0.05\n",
       "97    0.05\n",
       "98    0.05\n",
       "99    0.05\n",
       "Name: time, Length: 100, dtype: float64"
      ]
     },
     "execution_count": 12,
     "metadata": {},
     "output_type": "execute_result"
    }
   ],
   "source": [
    "dataTable.time[0:100] # this would show the first 100 values of the time series"
   ]
  },
  {
   "cell_type": "code",
   "execution_count": 13,
   "metadata": {},
   "outputs": [
    {
     "data": {
      "text/plain": [
       "[<matplotlib.lines.Line2D at 0x2020e803b50>]"
      ]
     },
     "execution_count": 13,
     "metadata": {},
     "output_type": "execute_result"
    },
    {
     "data": {
      "image/png": "[encoded data removed]",
      "text/plain": [
       "<Figure size 432x288 with 1 Axes>"
      ]
     },
     "metadata": {
      "needs_background": "light"
     },
     "output_type": "display_data"
    }
   ],
   "source": [
    "# Let's look at a subsection of the data\n",
    "start = 0\n",
    "end = 2000\n",
    "plt.plot(dataTable.time[start:end],dataTable.voltage[start:end],'.')"
   ]
  },
  {
   "cell_type": "markdown",
   "metadata": {},
   "source": [
    "It looks like our experimental data is lumped around specific voltage steps. This was likely caused by the datalogger not recording the voltage to enough decimal places. Additionally each time does not have a single unique voltage, this can be seen by looking at our raw data, every 20 rows are sharing the same time. This means it should have exported the time as 4dp but was instead 2dp (and similarly for voltage), while annoying this can still be fixed."
   ]
  },
  {
   "cell_type": "code",
   "execution_count": 14,
   "metadata": {},
   "outputs": [
    {
     "data": {
      "text/plain": [
       "0     0.00\n",
       "1     0.00\n",
       "2     0.00\n",
       "3     0.00\n",
       "4     0.00\n",
       "5     0.00\n",
       "6     0.00\n",
       "7     0.00\n",
       "8     0.00\n",
       "9     0.00\n",
       "10    0.00\n",
       "11    0.01\n",
       "12    0.01\n",
       "13    0.01\n",
       "14    0.01\n",
       "15    0.01\n",
       "16    0.01\n",
       "17    0.01\n",
       "18    0.01\n",
       "19    0.01\n",
       "20    0.01\n",
       "21    0.01\n",
       "22    0.01\n",
       "23    0.01\n",
       "24    0.01\n",
       "25    0.01\n",
       "26    0.01\n",
       "27    0.01\n",
       "28    0.01\n",
       "29    0.01\n",
       "30    0.01\n",
       "31    0.02\n",
       "32    0.02\n",
       "33    0.02\n",
       "34    0.02\n",
       "35    0.02\n",
       "36    0.02\n",
       "37    0.02\n",
       "38    0.02\n",
       "39    0.02\n",
       "40    0.02\n",
       "41    0.02\n",
       "42    0.02\n",
       "43    0.02\n",
       "44    0.02\n",
       "45    0.02\n",
       "46    0.02\n",
       "47    0.02\n",
       "48    0.02\n",
       "49    0.02\n",
       "50    0.03\n",
       "Name: time, dtype: float64"
      ]
     },
     "execution_count": 14,
     "metadata": {},
     "output_type": "execute_result"
    }
   ],
   "source": [
    "dataTable.time[0:51]"
   ]
  },
  {
   "cell_type": "markdown",
   "metadata": {},
   "source": [
    "One way of fixing this (but not nessesarily the best) is by making each time value have a unique voltage by taking an average voltage for each time.\n",
    "To figure out how to do this one might search something like \"pandas merge values if column is same\", remember google doesn't care about proper grammer.\n",
    "\n",
    "This turns up this [page](https://stackoverflow.com/questions/46826773/how-can-i-merge-rows-by-same-value-in-a-column-in-pandas-with-aggregation-func)\n",
    "\n",
    "Which brings to our attention the aggregate and groupby functions. From here we could look them up in the pandas documentaion. OR we could insted try our luck by using the example as a base.\n",
    "\n",
    "This is the code provided in the page:\n",
    "\n",
    "```\n",
    "aggregation_functions = {'price': 'sum', 'amount': 'sum', 'name': 'first'}\n",
    "df_new = df.groupby(df['id']).aggregate(aggregation_functions)\n",
    "```\n",
    "\n",
    "Lets change it to suit our data."
   ]
  },
  {
   "cell_type": "code",
   "execution_count": 15,
   "metadata": {},
   "outputs": [
    {
     "data": {
      "text/html": [
       "<div>\n",
       "<style scoped>\n",
       "    .dataframe tbody tr th:only-of-type {\n",
       "        vertical-align: middle;\n",
       "    }\n",
       "\n",
       "    .dataframe tbody tr th {\n",
       "        vertical-align: top;\n",
       "    }\n",
       "\n",
       "    .dataframe thead th {\n",
       "        text-align: right;\n",
       "    }\n",
       "</style>\n",
       "<table border=\"1\" class=\"dataframe\">\n",
       "  <thead>\n",
       "    <tr style=\"text-align: right;\">\n",
       "      <th></th>\n",
       "      <th>voltage</th>\n",
       "    </tr>\n",
       "    <tr>\n",
       "      <th>time</th>\n",
       "      <th></th>\n",
       "    </tr>\n",
       "  </thead>\n",
       "  <tbody>\n",
       "    <tr>\n",
       "      <th>0.00</th>\n",
       "      <td>-0.010909</td>\n",
       "    </tr>\n",
       "    <tr>\n",
       "      <th>0.01</th>\n",
       "      <td>-0.009000</td>\n",
       "    </tr>\n",
       "    <tr>\n",
       "      <th>0.02</th>\n",
       "      <td>-0.005789</td>\n",
       "    </tr>\n",
       "    <tr>\n",
       "      <th>0.03</th>\n",
       "      <td>-0.002500</td>\n",
       "    </tr>\n",
       "    <tr>\n",
       "      <th>0.04</th>\n",
       "      <td>-0.002000</td>\n",
       "    </tr>\n",
       "    <tr>\n",
       "      <th>...</th>\n",
       "      <td>...</td>\n",
       "    </tr>\n",
       "    <tr>\n",
       "      <th>60.31</th>\n",
       "      <td>-0.245238</td>\n",
       "    </tr>\n",
       "    <tr>\n",
       "      <th>60.32</th>\n",
       "      <td>-0.244737</td>\n",
       "    </tr>\n",
       "    <tr>\n",
       "      <th>60.33</th>\n",
       "      <td>-0.246667</td>\n",
       "    </tr>\n",
       "    <tr>\n",
       "      <th>60.34</th>\n",
       "      <td>-0.244211</td>\n",
       "    </tr>\n",
       "    <tr>\n",
       "      <th>60.35</th>\n",
       "      <td>-0.247000</td>\n",
       "    </tr>\n",
       "  </tbody>\n",
       "</table>\n",
       "<p>6036 rows × 1 columns</p>\n",
       "</div>"
      ],
      "text/plain": [
       "        voltage\n",
       "time           \n",
       "0.00  -0.010909\n",
       "0.01  -0.009000\n",
       "0.02  -0.005789\n",
       "0.03  -0.002500\n",
       "0.04  -0.002000\n",
       "...         ...\n",
       "60.31 -0.245238\n",
       "60.32 -0.244737\n",
       "60.33 -0.246667\n",
       "60.34 -0.244211\n",
       "60.35 -0.247000\n",
       "\n",
       "[6036 rows x 1 columns]"
      ]
     },
     "execution_count": 15,
     "metadata": {},
     "output_type": "execute_result"
    }
   ],
   "source": [
    "fixedTable = dataTable.groupby(dataTable['time']).aggregate({'voltage':'mean'})\n",
    "fixedTable"
   ]
  },
  {
   "cell_type": "markdown",
   "metadata": {},
   "source": [
    "That kind of worked but our time column became our index column. By looking at the [documentation](https://pandas.pydata.org/docs/reference/api/pandas.DataFrame.groupby.html) we find that there is a as_index argument that will fix our issue."
   ]
  },
  {
   "cell_type": "code",
   "execution_count": 16,
   "metadata": {},
   "outputs": [
    {
     "data": {
      "text/html": [
       "<div>\n",
       "<style scoped>\n",
       "    .dataframe tbody tr th:only-of-type {\n",
       "        vertical-align: middle;\n",
       "    }\n",
       "\n",
       "    .dataframe tbody tr th {\n",
       "        vertical-align: top;\n",
       "    }\n",
       "\n",
       "    .dataframe thead th {\n",
       "        text-align: right;\n",
       "    }\n",
       "</style>\n",
       "<table border=\"1\" class=\"dataframe\">\n",
       "  <thead>\n",
       "    <tr style=\"text-align: right;\">\n",
       "      <th></th>\n",
       "      <th>time</th>\n",
       "      <th>voltage</th>\n",
       "    </tr>\n",
       "  </thead>\n",
       "  <tbody>\n",
       "    <tr>\n",
       "      <th>0</th>\n",
       "      <td>0.00</td>\n",
       "      <td>-0.010909</td>\n",
       "    </tr>\n",
       "    <tr>\n",
       "      <th>1</th>\n",
       "      <td>0.01</td>\n",
       "      <td>-0.009000</td>\n",
       "    </tr>\n",
       "    <tr>\n",
       "      <th>2</th>\n",
       "      <td>0.02</td>\n",
       "      <td>-0.005789</td>\n",
       "    </tr>\n",
       "    <tr>\n",
       "      <th>3</th>\n",
       "      <td>0.03</td>\n",
       "      <td>-0.002500</td>\n",
       "    </tr>\n",
       "    <tr>\n",
       "      <th>4</th>\n",
       "      <td>0.04</td>\n",
       "      <td>-0.002000</td>\n",
       "    </tr>\n",
       "    <tr>\n",
       "      <th>...</th>\n",
       "      <td>...</td>\n",
       "      <td>...</td>\n",
       "    </tr>\n",
       "    <tr>\n",
       "      <th>6031</th>\n",
       "      <td>60.31</td>\n",
       "      <td>-0.245238</td>\n",
       "    </tr>\n",
       "    <tr>\n",
       "      <th>6032</th>\n",
       "      <td>60.32</td>\n",
       "      <td>-0.244737</td>\n",
       "    </tr>\n",
       "    <tr>\n",
       "      <th>6033</th>\n",
       "      <td>60.33</td>\n",
       "      <td>-0.246667</td>\n",
       "    </tr>\n",
       "    <tr>\n",
       "      <th>6034</th>\n",
       "      <td>60.34</td>\n",
       "      <td>-0.244211</td>\n",
       "    </tr>\n",
       "    <tr>\n",
       "      <th>6035</th>\n",
       "      <td>60.35</td>\n",
       "      <td>-0.247000</td>\n",
       "    </tr>\n",
       "  </tbody>\n",
       "</table>\n",
       "<p>6036 rows × 2 columns</p>\n",
       "</div>"
      ],
      "text/plain": [
       "       time   voltage\n",
       "0      0.00 -0.010909\n",
       "1      0.01 -0.009000\n",
       "2      0.02 -0.005789\n",
       "3      0.03 -0.002500\n",
       "4      0.04 -0.002000\n",
       "...     ...       ...\n",
       "6031  60.31 -0.245238\n",
       "6032  60.32 -0.244737\n",
       "6033  60.33 -0.246667\n",
       "6034  60.34 -0.244211\n",
       "6035  60.35 -0.247000\n",
       "\n",
       "[6036 rows x 2 columns]"
      ]
     },
     "execution_count": 16,
     "metadata": {},
     "output_type": "execute_result"
    }
   ],
   "source": [
    "fixedTable = dataTable.groupby(dataTable['time'],as_index=False).aggregate({'voltage':'mean'}) \n",
    "# We don't want to use time as an index\n",
    "fixedTable"
   ]
  },
  {
   "cell_type": "code",
   "execution_count": 17,
   "metadata": {},
   "outputs": [
    {
     "data": {
      "text/plain": [
       "[<matplotlib.lines.Line2D at 0x2020e875d00>]"
      ]
     },
     "execution_count": 17,
     "metadata": {},
     "output_type": "execute_result"
    },
    {
     "data": {
      "image/png": "[encoded data removed]",
      "text/plain": [
       "<Figure size 432x288 with 1 Axes>"
      ]
     },
     "metadata": {
      "needs_background": "light"
     },
     "output_type": "display_data"
    }
   ],
   "source": [
    "plt.plot(fixedTable.time,fixedTable.voltage,'.')"
   ]
  },
  {
   "cell_type": "markdown",
   "metadata": {},
   "source": [
    "That looks much more continuous than before. Now we can see another issue, our data is not centered around 0 volts as it should be. We can fix that by finding the mean value of the entire dataset and subtracting that from every point in the dataset."
   ]
  },
  {
   "cell_type": "code",
   "execution_count": 18,
   "metadata": {},
   "outputs": [
    {
     "data": {
      "text/plain": [
       "-0.11305036955679153"
      ]
     },
     "execution_count": 18,
     "metadata": {},
     "output_type": "execute_result"
    }
   ],
   "source": [
    "fixedTable.voltage.mean() #This is how you get the mean of a Series"
   ]
  },
  {
   "cell_type": "code",
   "execution_count": 19,
   "metadata": {
    "scrolled": false
   },
   "outputs": [
    {
     "data": {
      "text/html": [
       "<div>\n",
       "<style scoped>\n",
       "    .dataframe tbody tr th:only-of-type {\n",
       "        vertical-align: middle;\n",
       "    }\n",
       "\n",
       "    .dataframe tbody tr th {\n",
       "        vertical-align: top;\n",
       "    }\n",
       "\n",
       "    .dataframe thead th {\n",
       "        text-align: right;\n",
       "    }\n",
       "</style>\n",
       "<table border=\"1\" class=\"dataframe\">\n",
       "  <thead>\n",
       "    <tr style=\"text-align: right;\">\n",
       "      <th></th>\n",
       "      <th>time</th>\n",
       "      <th>voltage</th>\n",
       "    </tr>\n",
       "  </thead>\n",
       "  <tbody>\n",
       "    <tr>\n",
       "      <th>0</th>\n",
       "      <td>0.00</td>\n",
       "      <td>0.102141</td>\n",
       "    </tr>\n",
       "    <tr>\n",
       "      <th>1</th>\n",
       "      <td>0.01</td>\n",
       "      <td>0.104050</td>\n",
       "    </tr>\n",
       "    <tr>\n",
       "      <th>2</th>\n",
       "      <td>0.02</td>\n",
       "      <td>0.107261</td>\n",
       "    </tr>\n",
       "    <tr>\n",
       "      <th>3</th>\n",
       "      <td>0.03</td>\n",
       "      <td>0.110550</td>\n",
       "    </tr>\n",
       "    <tr>\n",
       "      <th>4</th>\n",
       "      <td>0.04</td>\n",
       "      <td>0.111050</td>\n",
       "    </tr>\n",
       "    <tr>\n",
       "      <th>...</th>\n",
       "      <td>...</td>\n",
       "      <td>...</td>\n",
       "    </tr>\n",
       "    <tr>\n",
       "      <th>6031</th>\n",
       "      <td>60.31</td>\n",
       "      <td>-0.132188</td>\n",
       "    </tr>\n",
       "    <tr>\n",
       "      <th>6032</th>\n",
       "      <td>60.32</td>\n",
       "      <td>-0.131686</td>\n",
       "    </tr>\n",
       "    <tr>\n",
       "      <th>6033</th>\n",
       "      <td>60.33</td>\n",
       "      <td>-0.133616</td>\n",
       "    </tr>\n",
       "    <tr>\n",
       "      <th>6034</th>\n",
       "      <td>60.34</td>\n",
       "      <td>-0.131160</td>\n",
       "    </tr>\n",
       "    <tr>\n",
       "      <th>6035</th>\n",
       "      <td>60.35</td>\n",
       "      <td>-0.133950</td>\n",
       "    </tr>\n",
       "  </tbody>\n",
       "</table>\n",
       "<p>6036 rows × 2 columns</p>\n",
       "</div>"
      ],
      "text/plain": [
       "       time   voltage\n",
       "0      0.00  0.102141\n",
       "1      0.01  0.104050\n",
       "2      0.02  0.107261\n",
       "3      0.03  0.110550\n",
       "4      0.04  0.111050\n",
       "...     ...       ...\n",
       "6031  60.31 -0.132188\n",
       "6032  60.32 -0.131686\n",
       "6033  60.33 -0.133616\n",
       "6034  60.34 -0.131160\n",
       "6035  60.35 -0.133950\n",
       "\n",
       "[6036 rows x 2 columns]"
      ]
     },
     "execution_count": 19,
     "metadata": {},
     "output_type": "execute_result"
    }
   ],
   "source": [
    "fixedTable.voltage = fixedTable.voltage - fixedTable.voltage.mean() # Subtracting the zero offset from all voltages then reasigning the voltages\n",
    "fixedTable"
   ]
  },
  {
   "cell_type": "markdown",
   "metadata": {},
   "source": [
    "Let us check the plot once more to see if it is now centered around zero."
   ]
  },
  {
   "cell_type": "code",
   "execution_count": 20,
   "metadata": {},
   "outputs": [
    {
     "data": {
      "text/plain": [
       "[<matplotlib.lines.Line2D at 0x2020e8e2a90>]"
      ]
     },
     "execution_count": 20,
     "metadata": {},
     "output_type": "execute_result"
    },
    {
     "data": {
      "image/png": "[encoded data removed]",
      "text/plain": [
       "<Figure size 432x288 with 1 Axes>"
      ]
     },
     "metadata": {
      "needs_background": "light"
     },
     "output_type": "display_data"
    }
   ],
   "source": [
    "plt.plot(fixedTable.time,fixedTable.voltage,'.')"
   ]
  },
  {
   "cell_type": "markdown",
   "metadata": {},
   "source": [
    "Looking good, finally lets double check that section we looked at earlier that was very discrete"
   ]
  },
  {
   "cell_type": "code",
   "execution_count": 21,
   "metadata": {},
   "outputs": [
    {
     "data": {
      "text/plain": [
       "[<matplotlib.lines.Line2D at 0x2020e95c4f0>]"
      ]
     },
     "execution_count": 21,
     "metadata": {},
     "output_type": "execute_result"
    },
    {
     "data": {
      "image/png": "[encoded data removed]",
      "text/plain": [
       "<Figure size 432x288 with 1 Axes>"
      ]
     },
     "metadata": {
      "needs_background": "light"
     },
     "output_type": "display_data"
    }
   ],
   "source": [
    "# viewing the same section from earlier\n",
    "start = 0\n",
    "end = 2000 \n",
    "\n",
    "# Beacuse of the averageing we merged 20 data point into one, so to compare we need to divide our end point by 20\n",
    "plt.plot(fixedTable.time[start:end//20],fixedTable.voltage[start:end//20],'k.') \n",
    "# the // operation means divide and round down, it is useful when the output variable needs to be an integer\n",
    "\n",
    "plt.plot(dataTable.time[start:end],dataTable.voltage[start:end],'r.')"
   ]
  },
  {
   "cell_type": "code",
   "execution_count": 22,
   "metadata": {},
   "outputs": [
    {
     "data": {
      "text/plain": [
       "<matplotlib.lines.Line2D at 0x2020fd44d90>"
      ]
     },
     "execution_count": 22,
     "metadata": {},
     "output_type": "execute_result"
    },
    {
     "data": {
      "image/png": "[encoded data removed]",
      "text/plain": [
       "<Figure size 432x288 with 1 Axes>"
      ]
     },
     "metadata": {
      "needs_background": "light"
     },
     "output_type": "display_data"
    }
   ],
   "source": [
    "end = 1000\n",
    "plt.plot(fixedTable.time[:end],fixedTable.voltage[:end],'.')\n",
    "plt.grid() # Turning on the grid\n",
    "plt.xlabel(\"Time (s)\")\n",
    "plt.ylabel(\"Voltage (V)\")\n",
    "plt.axhline(0,color='k') # adding a black horizontal line at V=0\n",
    "plt.axvline(0,color='k') # adding a black vertical line at t=0"
   ]
  },
  {
   "cell_type": "markdown",
   "metadata": {},
   "source": [
    "Now that our data has been cleaned up we can export it back into a file using pandas .to_csv funtion. This time we will explicity say how many decimal places to export the data to using the float_format argument."
   ]
  },
  {
   "cell_type": "code",
   "execution_count": 23,
   "metadata": {},
   "outputs": [],
   "source": [
    "fixedTable.to_csv(\"clean_pendulum_data.txt\",sep=',',float_format='%.6f') # exporting to 6dp"
   ]
  },
  {
   "cell_type": "markdown",
   "metadata": {},
   "source": [
    "# Summary\n",
    "\n",
    "Through out this notebook we learnt to:\n",
    "* Import data into a pandas dataframe\n",
    "* Identify issues in our data\n",
    "* Modify our data to fix any issues\n",
    "* Export our data out of python to a file\n"
   ]
  },
  {
   "cell_type": "markdown",
   "metadata": {},
   "source": [
    "(optional) There are also two other pendulum files, *Double pendulum2.txt* and *Double pendulum3.txt*, that have different data but in an identical format to before if you would like to see the same process again with new data."
   ]
  },
  {
   "cell_type": "markdown",
   "metadata": {},
   "source": [
    "# Test your understanding\n",
    "Now it is your turn. Try to import the file \"Modulated signal.csv\" and clean up the data. This time you are expecting a sin wave that has been frequency modulated.\n",
    "\n",
    "Frequency modulation is when a sin wave is modified to carry information by changing the frequency of different parts of the signal. This is how FM (Frequency Modulated) radio works. You can picture it like compressing and streching a slinky.\n",
    "\n",
    "You do not need to understand the theory, you just need a general idea of what the data should look like once cleaned.\n",
    "\n",
    "<img src=\"https://www.physics-and-radio-electronics.com/blog/wp-content/uploads/2018/04/frequencymodulation.png\" alt=\"Frequency modulation\" ALIGN=\"centre\" style=\"width: 500px;\"/>"
   ]
  },
  {
   "cell_type": "markdown",
   "metadata": {},
   "source": [
    "Import the data  \n",
    "<br>\n",
    "<details>\n",
    "    <summary><strong>Click this text once to reveal a level 1 hint</strong></summary>\n",
    "    Make sure to open the data file in a text editor first to see if it has headers and what seperator it uses.\n",
    "</details>"
   ]
  },
  {
   "cell_type": "code",
   "execution_count": null,
   "metadata": {},
   "outputs": [],
   "source": []
  },
  {
   "cell_type": "markdown",
   "metadata": {},
   "source": [
    "Visualise the data to see if anything is odd.  \n",
    "<br>\n",
    "<details>\n",
    "    <summary><strong>Click this text once to reveal a level 1 hint</strong></summary>\n",
    "    It might help to zoom in to the data to see what is happening.\n",
    "</details>\n",
    "<br>\n",
    "<details>\n",
    "    <summary><strong>Click this text once to reveal a level 2 hint</strong></summary>\n",
    "    Is there a unique time for every data point?\n",
    "</details>"
   ]
  },
  {
   "cell_type": "code",
   "execution_count": null,
   "metadata": {},
   "outputs": [],
   "source": []
  },
  {
   "cell_type": "markdown",
   "metadata": {},
   "source": [
    "How can we fix our problem?  \n",
    "<br>\n",
    "<details>\n",
    "    <summary><strong>Click this text once to reveal a level 1 hint</strong></summary>\n",
    "    The issue is the time column was exported with 5 decimal places even though it should have been 6 decimal places. The signal data seems fine though. How can we fix this?\n",
    "</details>\n",
    "<br>\n",
    "<details>\n",
    "    <summary><strong>Click this text once to reveal a level 2 hint</strong></summary>\n",
    "    Averaging like last time will not work, too much data will be lost. Instead we need to reconstruct a new time column with the correct 6dp spacing.\n",
    "</details>\n",
    "<br>\n",
    "<details>\n",
    "    <summary><strong>Click this text once to reveal a level 3 hint</strong></summary>\n",
    "    Reconstructing the time column can be done by making a numpy array using numpy.linspace() then copying that on to our time column.\n",
    "</details>"
   ]
  },
  {
   "cell_type": "code",
   "execution_count": null,
   "metadata": {},
   "outputs": [],
   "source": []
  },
  {
   "cell_type": "markdown",
   "metadata": {},
   "source": [
    "Now let's plot it and see if it worked."
   ]
  }
 ],
 "metadata": {
  "kernelspec": {
   "display_name": "Python 3 (ipykernel)",
   "language": "python",
   "name": "python3"
  },
  "language_info": {
   "codemirror_mode": {
    "name": "ipython",
    "version": 3
   },
   "file_extension": ".py",
   "mimetype": "text/x-python",
   "name": "python",
   "nbconvert_exporter": "python",
   "pygments_lexer": "ipython3",
   "version": "3.9.7"
  }
 },
 "nbformat": 4,
 "nbformat_minor": 4
}
